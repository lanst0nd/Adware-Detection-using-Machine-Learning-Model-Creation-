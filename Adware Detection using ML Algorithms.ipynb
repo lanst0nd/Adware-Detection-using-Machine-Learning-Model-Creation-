{
  "cells": [
    {
      "cell_type": "markdown",
      "metadata": {
        "id": "mb9gwprd99kL"
      },
      "source": [
        "# ISM Review"
      ]
    },
    {
      "cell_type": "markdown",
      "metadata": {
        "id": "mqLQFv59-DXF"
      },
      "source": [
        "## Decision Tree"
      ]
    },
    {
      "cell_type": "markdown",
      "metadata": {
        "id": "ve5mGWuZ-I_W"
      },
      "source": [
        "# Code"
      ]
    },
    {
      "cell_type": "markdown",
      "metadata": {
        "id": "Q8xIUFFZpljj"
      },
      "source": [
        "## Header and Dataset"
      ]
    },
    {
      "cell_type": "code",
      "execution_count": null,
      "metadata": {
        "ExecuteTime": {
          "start_time": "2023-04-14T10:33:06.605107Z",
          "end_time": "2023-04-14T10:33:11.418168Z"
        },
        "id": "Q4ME1HZ198hS"
      },
      "outputs": [],
      "source": [
        "import numpy as np\n",
        "import pandas as pd\n",
        "from sklearn.metrics import confusion_matrix\n",
        "from sklearn.model_selection import train_test_split\n",
        "from sklearn.tree import DecisionTreeClassifier\n",
        "from sklearn.metrics import accuracy_score\n",
        "from sklearn.metrics import classification_report"
      ]
    },
    {
      "cell_type": "code",
      "execution_count": null,
      "metadata": {
        "ExecuteTime": {
          "start_time": "2023-04-14T10:33:11.408843Z",
          "end_time": "2023-04-14T10:33:11.429650Z"
        },
        "id": "zOFwFbcchTvW"
      },
      "outputs": [],
      "source": [
        "from sklearn import tree\n",
        "from sklearn.tree import DecisionTreeClassifier\n",
        "import matplotlib.pyplot as plt"
      ]
    },
    {
      "cell_type": "code",
      "source": [
        "from google.colab import drive\n",
        "drive.mount('/content/gdrive')"
      ],
      "metadata": {
        "colab": {
          "base_uri": "https://localhost:8080/"
        },
        "id": "JwB2AA79ukff",
        "outputId": "c9c8da5c-d45e-49c6-e627-8cda107ab4c8"
      },
      "execution_count": null,
      "outputs": [
        {
          "output_type": "stream",
          "name": "stdout",
          "text": [
            "Drive already mounted at /content/gdrive; to attempt to forcibly remount, call drive.mount(\"/content/gdrive\", force_remount=True).\n"
          ]
        }
      ]
    },
    {
      "cell_type": "code",
      "execution_count": null,
      "metadata": {
        "ExecuteTime": {
          "start_time": "2023-04-14T10:33:11.424186Z",
          "end_time": "2023-04-14T10:33:12.605406Z"
        },
        "id": "O3B2KXLL-Wp4"
      },
      "outputs": [],
      "source": [
        "import pandas as pd\n",
        "data1=pd.read_csv('/content/gdrive/MyDrive/ISM/1. 06_14_2017-ad-dowgin-gdata-1c.csv')\n",
        "data2=pd.read_csv('/content/gdrive/MyDrive/ISM/2. 06_13_2017-ad-ewind-koodous-1d.csv')\n",
        "data3=pd.read_csv('/content/gdrive/MyDrive/ISM/3. 06_13_2017-ad-feiwo-fortinet-04c.csv')\n",
        "data4=pd.read_csv('/content/gdrive/MyDrive/ISM/4. 06_15_2017-ad-gooligan-fortinet-16.csv')\n",
        "data5=pd.read_csv('/content/gdrive/MyDrive/ISM/5. 06_13_2017-ad-kemoge-lookout-0c.csv')\n",
        "data6=pd.read_csv('/content/gdrive/MyDrive/ISM/6. 06_14_2017-ad-Chinese-koodous-4d.csv')\n",
        "data7=pd.read_csv('/content/gdrive/MyDrive/ISM/7. 06_13_2017-ad-mobidash-net32-04e.csv')\n",
        "data8=pd.read_csv('/content/gdrive/MyDrive/ISM/8. 06_14_2017-ad-selfmite-fortinet-3d.csv')\n",
        "data9=pd.read_csv('/content/gdrive/MyDrive/ISM/9. 06_14_2017-ad-shuanet-lookout-1e.csv')\n",
        "data10=pd.read_csv('/content/gdrive/MyDrive/ISM/10. 06_15_2017-ad-youmi-gdata-3d.csv')"
      ]
    },
    {
      "cell_type": "markdown",
      "metadata": {
        "id": "fzvhGTs8pljl"
      },
      "source": [
        "## Cleaning Dataset"
      ]
    },
    {
      "cell_type": "code",
      "execution_count": null,
      "metadata": {
        "ExecuteTime": {
          "start_time": "2023-04-14T10:33:12.171771Z",
          "end_time": "2023-04-14T10:33:12.609495Z"
        },
        "colab": {
          "base_uri": "https://localhost:8080/"
        },
        "id": "5rTOSTV5ezaz",
        "outputId": "517ddf2e-cf1a-4e6c-b643-a6240e8ced4a"
      },
      "outputs": [
        {
          "output_type": "stream",
          "name": "stdout",
          "text": [
            "(2917, 85)\n",
            "(2888, 86)\n",
            "(3578, 85)\n",
            "(3475, 85)\n",
            "(2367, 85)\n"
          ]
        }
      ],
      "source": [
        "print(data1.shape)\n",
        "print(data2.shape)\n",
        "print(data3.shape)\n",
        "print(data4.shape)\n",
        "print(data5.shape)"
      ]
    },
    {
      "cell_type": "code",
      "execution_count": null,
      "metadata": {
        "ExecuteTime": {
          "start_time": "2023-04-14T10:33:12.189064Z",
          "end_time": "2023-04-14T10:33:12.610363Z"
        },
        "id": "xbkUqQ_qpljm"
      },
      "outputs": [],
      "source": [
        "data2 = data2.drop(['Unnamed: 85'],axis=1)"
      ]
    },
    {
      "cell_type": "code",
      "execution_count": null,
      "metadata": {
        "ExecuteTime": {
          "start_time": "2023-04-14T10:33:12.195495Z",
          "end_time": "2023-04-14T10:33:12.630620Z"
        },
        "colab": {
          "base_uri": "https://localhost:8080/"
        },
        "id": "PH-H9lEypljn",
        "outputId": "0714d753-b2ef-4221-bf8f-92e594b3a83e"
      },
      "outputs": [
        {
          "output_type": "stream",
          "name": "stdout",
          "text": [
            "<class 'pandas.core.frame.DataFrame'>\n",
            "RangeIndex: 2917 entries, 0 to 2916\n",
            "Data columns (total 85 columns):\n",
            " #   Column                       Non-Null Count  Dtype  \n",
            "---  ------                       --------------  -----  \n",
            " 0   Flow ID                      2917 non-null   object \n",
            " 1   Source IP                    2917 non-null   object \n",
            " 2   Source Port                  2917 non-null   int64  \n",
            " 3   Destination IP               2917 non-null   object \n",
            " 4   Destination Port             2917 non-null   int64  \n",
            " 5   Protocol                     2917 non-null   int64  \n",
            " 6   Timestamp                    2917 non-null   object \n",
            " 7   Flow Duration                2917 non-null   int64  \n",
            " 8   Total Fwd Packets            2917 non-null   int64  \n",
            " 9   Total Backward Packets       2917 non-null   int64  \n",
            " 10  Total Length of Fwd Packets  2917 non-null   int64  \n",
            " 11  Total Length of Bwd Packets  2917 non-null   int64  \n",
            " 12  Fwd Packet Length Max        2917 non-null   int64  \n",
            " 13  Fwd Packet Length Min        2917 non-null   int64  \n",
            " 14  Fwd Packet Length Mean       2917 non-null   float64\n",
            " 15  Fwd Packet Length Std        2917 non-null   float64\n",
            " 16  Bwd Packet Length Max        2917 non-null   int64  \n",
            " 17  Bwd Packet Length Min        2917 non-null   int64  \n",
            " 18  Bwd Packet Length Mean       2917 non-null   float64\n",
            " 19  Bwd Packet Length Std        2917 non-null   float64\n",
            " 20  Flow Bytes/s                 2917 non-null   float64\n",
            " 21  Flow Packets/s               2917 non-null   float64\n",
            " 22  Flow IAT Mean                2917 non-null   float64\n",
            " 23  Flow IAT Std                 2917 non-null   float64\n",
            " 24  Flow IAT Max                 2917 non-null   float64\n",
            " 25  Flow IAT Min                 2917 non-null   float64\n",
            " 26  Fwd IAT Total                2917 non-null   float64\n",
            " 27  Fwd IAT Mean                 2917 non-null   float64\n",
            " 28  Fwd IAT Std                  2917 non-null   float64\n",
            " 29  Fwd IAT Max                  2917 non-null   float64\n",
            " 30  Fwd IAT Min                  2917 non-null   float64\n",
            " 31  Bwd IAT Total                2917 non-null   float64\n",
            " 32  Bwd IAT Mean                 2917 non-null   float64\n",
            " 33  Bwd IAT Std                  2917 non-null   float64\n",
            " 34  Bwd IAT Max                  2917 non-null   float64\n",
            " 35  Bwd IAT Min                  2917 non-null   float64\n",
            " 36  Fwd PSH Flags                2917 non-null   int64  \n",
            " 37  Bwd PSH Flags                2917 non-null   int64  \n",
            " 38  Fwd URG Flags                2917 non-null   int64  \n",
            " 39  Bwd URG Flags                2917 non-null   int64  \n",
            " 40  Fwd Header Length            2917 non-null   int64  \n",
            " 41  Bwd Header Length            2917 non-null   int64  \n",
            " 42  Fwd Packets/s                2917 non-null   float64\n",
            " 43  Bwd Packets/s                2917 non-null   float64\n",
            " 44  Min Packet Length            2917 non-null   int64  \n",
            " 45  Max Packet Length            2917 non-null   int64  \n",
            " 46  Packet Length Mean           2917 non-null   float64\n",
            " 47  Packet Length Std            2917 non-null   float64\n",
            " 48  Packet Length Variance       2917 non-null   float64\n",
            " 49  FIN Flag Count               2917 non-null   int64  \n",
            " 50  SYN Flag Count               2917 non-null   int64  \n",
            " 51  RST Flag Count               2917 non-null   int64  \n",
            " 52  PSH Flag Count               2917 non-null   int64  \n",
            " 53  ACK Flag Count               2917 non-null   int64  \n",
            " 54  URG Flag Count               2917 non-null   int64  \n",
            " 55  CWE Flag Count               2917 non-null   int64  \n",
            " 56  ECE Flag Count               2917 non-null   int64  \n",
            " 57  Down/Up Ratio                2917 non-null   int64  \n",
            " 58  Average Packet Size          2917 non-null   float64\n",
            " 59  Avg Fwd Segment Size         2917 non-null   float64\n",
            " 60  Avg Bwd Segment Size         2917 non-null   float64\n",
            " 61  Fwd Header Length.1          2917 non-null   int64  \n",
            " 62  Fwd Avg Bytes/Bulk           2917 non-null   int64  \n",
            " 63  Fwd Avg Packets/Bulk         2917 non-null   int64  \n",
            " 64  Fwd Avg Bulk Rate            2917 non-null   int64  \n",
            " 65  Bwd Avg Bytes/Bulk           2917 non-null   int64  \n",
            " 66  Bwd Avg Packets/Bulk         2917 non-null   int64  \n",
            " 67  Bwd Avg Bulk Rate            2917 non-null   int64  \n",
            " 68  Subflow Fwd Packets          2917 non-null   int64  \n",
            " 69  Subflow Fwd Bytes            2917 non-null   int64  \n",
            " 70  Subflow Bwd Packets          2917 non-null   int64  \n",
            " 71  Subflow Bwd Bytes            2917 non-null   int64  \n",
            " 72  Init_Win_bytes_forward       2917 non-null   int64  \n",
            " 73  Init_Win_bytes_backward      2917 non-null   int64  \n",
            " 74  act_data_pkt_fwd             2917 non-null   int64  \n",
            " 75  min_seg_size_forward         2917 non-null   int64  \n",
            " 76  Active Mean                  2917 non-null   float64\n",
            " 77  Active Std                   2917 non-null   float64\n",
            " 78  Active Max                   2917 non-null   float64\n",
            " 79  Active Min                   2917 non-null   float64\n",
            " 80  Idle Mean                    2917 non-null   float64\n",
            " 81  Idle Std                     2917 non-null   float64\n",
            " 82  Idle Max                     2917 non-null   float64\n",
            " 83  Idle Min                     2917 non-null   float64\n",
            " 84  Label                        2917 non-null   object \n",
            "dtypes: float64(36), int64(44), object(5)\n",
            "memory usage: 1.9+ MB\n"
          ]
        }
      ],
      "source": [
        "data1.info()"
      ]
    },
    {
      "cell_type": "code",
      "execution_count": null,
      "metadata": {
        "ExecuteTime": {
          "start_time": "2023-04-14T10:33:12.218186Z",
          "end_time": "2023-04-14T10:33:12.630620Z"
        },
        "id": "VIjkNuOupljo"
      },
      "outputs": [],
      "source": [
        "df = pd.concat([data1, data2,data3,data4,data5,data6, data7,data8,data9,data10], axis=0)"
      ]
    },
    {
      "cell_type": "code",
      "execution_count": null,
      "metadata": {
        "ExecuteTime": {
          "start_time": "2023-04-14T10:33:12.253999Z",
          "end_time": "2023-04-14T10:33:12.659173Z"
        },
        "colab": {
          "base_uri": "https://localhost:8080/"
        },
        "id": "Xzn8BQIcpljo",
        "outputId": "866bba4e-04b4-4181-b0e0-d2e69700b4ba"
      },
      "outputs": [
        {
          "output_type": "stream",
          "name": "stdout",
          "text": [
            "<class 'pandas.core.frame.DataFrame'>\n",
            "Int64Index: 29032 entries, 0 to 1969\n",
            "Data columns (total 85 columns):\n",
            " #   Column                       Non-Null Count  Dtype  \n",
            "---  ------                       --------------  -----  \n",
            " 0   Flow ID                      29032 non-null  object \n",
            " 1   Source IP                    29032 non-null  object \n",
            " 2   Source Port                  29032 non-null  int64  \n",
            " 3   Destination IP               29032 non-null  object \n",
            " 4   Destination Port             29032 non-null  int64  \n",
            " 5   Protocol                     29032 non-null  int64  \n",
            " 6   Timestamp                    29032 non-null  object \n",
            " 7   Flow Duration                29032 non-null  int64  \n",
            " 8   Total Fwd Packets            29032 non-null  int64  \n",
            " 9   Total Backward Packets       29032 non-null  int64  \n",
            " 10  Total Length of Fwd Packets  29032 non-null  int64  \n",
            " 11  Total Length of Bwd Packets  29032 non-null  float64\n",
            " 12  Fwd Packet Length Max        29032 non-null  int64  \n",
            " 13  Fwd Packet Length Min        29032 non-null  int64  \n",
            " 14  Fwd Packet Length Mean       29032 non-null  float64\n",
            " 15  Fwd Packet Length Std        29032 non-null  float64\n",
            " 16  Bwd Packet Length Max        29032 non-null  int64  \n",
            " 17  Bwd Packet Length Min        29032 non-null  int64  \n",
            " 18  Bwd Packet Length Mean       29032 non-null  float64\n",
            " 19  Bwd Packet Length Std        29032 non-null  float64\n",
            " 20  Flow Bytes/s                 29032 non-null  float64\n",
            " 21  Flow Packets/s               29032 non-null  float64\n",
            " 22  Flow IAT Mean                29032 non-null  float64\n",
            " 23  Flow IAT Std                 29032 non-null  float64\n",
            " 24  Flow IAT Max                 29032 non-null  float64\n",
            " 25  Flow IAT Min                 29032 non-null  float64\n",
            " 26  Fwd IAT Total                29032 non-null  float64\n",
            " 27  Fwd IAT Mean                 29032 non-null  float64\n",
            " 28  Fwd IAT Std                  29032 non-null  float64\n",
            " 29  Fwd IAT Max                  29032 non-null  float64\n",
            " 30  Fwd IAT Min                  29032 non-null  float64\n",
            " 31  Bwd IAT Total                29032 non-null  float64\n",
            " 32  Bwd IAT Mean                 29032 non-null  float64\n",
            " 33  Bwd IAT Std                  29032 non-null  float64\n",
            " 34  Bwd IAT Max                  29032 non-null  float64\n",
            " 35  Bwd IAT Min                  29032 non-null  float64\n",
            " 36  Fwd PSH Flags                29032 non-null  int64  \n",
            " 37  Bwd PSH Flags                29032 non-null  int64  \n",
            " 38  Fwd URG Flags                29032 non-null  int64  \n",
            " 39  Bwd URG Flags                29032 non-null  int64  \n",
            " 40  Fwd Header Length            29032 non-null  int64  \n",
            " 41  Bwd Header Length            29032 non-null  int64  \n",
            " 42  Fwd Packets/s                29032 non-null  float64\n",
            " 43  Bwd Packets/s                29032 non-null  float64\n",
            " 44  Min Packet Length            29032 non-null  int64  \n",
            " 45  Max Packet Length            29032 non-null  int64  \n",
            " 46  Packet Length Mean           29032 non-null  float64\n",
            " 47  Packet Length Std            29032 non-null  float64\n",
            " 48  Packet Length Variance       29032 non-null  float64\n",
            " 49  FIN Flag Count               29032 non-null  int64  \n",
            " 50  SYN Flag Count               29032 non-null  int64  \n",
            " 51  RST Flag Count               29032 non-null  int64  \n",
            " 52  PSH Flag Count               29032 non-null  int64  \n",
            " 53  ACK Flag Count               29032 non-null  int64  \n",
            " 54  URG Flag Count               29032 non-null  int64  \n",
            " 55  CWE Flag Count               29032 non-null  int64  \n",
            " 56  ECE Flag Count               29032 non-null  int64  \n",
            " 57  Down/Up Ratio                29032 non-null  int64  \n",
            " 58  Average Packet Size          29032 non-null  float64\n",
            " 59  Avg Fwd Segment Size         29032 non-null  float64\n",
            " 60  Avg Bwd Segment Size         29032 non-null  float64\n",
            " 61  Fwd Header Length.1          29032 non-null  int64  \n",
            " 62  Fwd Avg Bytes/Bulk           29032 non-null  int64  \n",
            " 63  Fwd Avg Packets/Bulk         29032 non-null  int64  \n",
            " 64  Fwd Avg Bulk Rate            29032 non-null  int64  \n",
            " 65  Bwd Avg Bytes/Bulk           29032 non-null  int64  \n",
            " 66  Bwd Avg Packets/Bulk         29032 non-null  int64  \n",
            " 67  Bwd Avg Bulk Rate            29032 non-null  int64  \n",
            " 68  Subflow Fwd Packets          29032 non-null  int64  \n",
            " 69  Subflow Fwd Bytes            29032 non-null  int64  \n",
            " 70  Subflow Bwd Packets          29032 non-null  int64  \n",
            " 71  Subflow Bwd Bytes            29032 non-null  int64  \n",
            " 72  Init_Win_bytes_forward       29032 non-null  int64  \n",
            " 73  Init_Win_bytes_backward      29032 non-null  int64  \n",
            " 74  act_data_pkt_fwd             29032 non-null  int64  \n",
            " 75  min_seg_size_forward         29032 non-null  int64  \n",
            " 76  Active Mean                  29032 non-null  float64\n",
            " 77  Active Std                   29032 non-null  float64\n",
            " 78  Active Max                   29032 non-null  float64\n",
            " 79  Active Min                   29032 non-null  float64\n",
            " 80  Idle Mean                    29032 non-null  float64\n",
            " 81  Idle Std                     29032 non-null  float64\n",
            " 82  Idle Max                     29032 non-null  float64\n",
            " 83  Idle Min                     29032 non-null  float64\n",
            " 84  Label                        29032 non-null  object \n",
            "dtypes: float64(37), int64(43), object(5)\n",
            "memory usage: 19.0+ MB\n"
          ]
        }
      ],
      "source": [
        "df.info()"
      ]
    },
    {
      "cell_type": "code",
      "execution_count": null,
      "metadata": {
        "ExecuteTime": {
          "start_time": "2023-04-14T10:33:12.306324Z",
          "end_time": "2023-04-14T10:33:12.659884Z"
        },
        "id": "Chop9jjPpljp"
      },
      "outputs": [],
      "source": [
        "y=df['Label']"
      ]
    },
    {
      "cell_type": "code",
      "execution_count": null,
      "metadata": {
        "ExecuteTime": {
          "start_time": "2023-04-14T10:33:12.317047Z",
          "end_time": "2023-04-14T10:33:12.664755Z"
        },
        "colab": {
          "base_uri": "https://localhost:8080/"
        },
        "id": "xH87L8lzpljp",
        "outputId": "beb33162-b404-403e-e7be-c128b3b16355"
      },
      "outputs": [
        {
          "output_type": "execute_result",
          "data": {
            "text/plain": [
              "0       ADWARE_DOWGIN\n",
              "1       ADWARE_DOWGIN\n",
              "2       ADWARE_DOWGIN\n",
              "3       ADWARE_DOWGIN\n",
              "4       ADWARE_DOWGIN\n",
              "            ...      \n",
              "1965     ADWARE_YOUMI\n",
              "1966     ADWARE_YOUMI\n",
              "1967     ADWARE_YOUMI\n",
              "1968     ADWARE_YOUMI\n",
              "1969     ADWARE_YOUMI\n",
              "Name: Label, Length: 29032, dtype: object"
            ]
          },
          "metadata": {},
          "execution_count": 12
        }
      ],
      "source": [
        "y"
      ]
    },
    {
      "cell_type": "code",
      "execution_count": null,
      "metadata": {
        "ExecuteTime": {
          "start_time": "2023-04-14T10:33:12.337948Z",
          "end_time": "2023-04-14T10:33:12.664755Z"
        },
        "colab": {
          "base_uri": "https://localhost:8080/"
        },
        "id": "qlsxha91pljq",
        "outputId": "c1f4ec7f-260c-48ea-c719-6d8ee60b8ea1"
      },
      "outputs": [
        {
          "output_type": "stream",
          "name": "stdout",
          "text": [
            "Index(['Flow ID', 'Source IP', 'Source Port', 'Destination IP',\n",
            "       'Destination Port', 'Protocol', 'Timestamp', 'Flow Duration',\n",
            "       'Total Fwd Packets', 'Total Backward Packets',\n",
            "       'Total Length of Fwd Packets', 'Total Length of Bwd Packets',\n",
            "       'Fwd Packet Length Max', 'Fwd Packet Length Min',\n",
            "       'Fwd Packet Length Mean', 'Fwd Packet Length Std',\n",
            "       'Bwd Packet Length Max', 'Bwd Packet Length Min',\n",
            "       'Bwd Packet Length Mean', 'Bwd Packet Length Std', 'Flow Bytes/s',\n",
            "       'Flow Packets/s', 'Flow IAT Mean', 'Flow IAT Std', 'Flow IAT Max',\n",
            "       'Flow IAT Min', 'Fwd IAT Total', 'Fwd IAT Mean', 'Fwd IAT Std',\n",
            "       'Fwd IAT Max', 'Fwd IAT Min', 'Bwd IAT Total', 'Bwd IAT Mean',\n",
            "       'Bwd IAT Std', 'Bwd IAT Max', 'Bwd IAT Min', 'Fwd PSH Flags',\n",
            "       'Bwd PSH Flags', 'Fwd URG Flags', 'Bwd URG Flags', 'Fwd Header Length',\n",
            "       'Bwd Header Length', 'Fwd Packets/s', 'Bwd Packets/s',\n",
            "       'Min Packet Length', 'Max Packet Length', 'Packet Length Mean',\n",
            "       'Packet Length Std', 'Packet Length Variance', 'FIN Flag Count',\n",
            "       'SYN Flag Count', 'RST Flag Count', 'PSH Flag Count', 'ACK Flag Count',\n",
            "       'URG Flag Count', 'CWE Flag Count', 'ECE Flag Count', 'Down/Up Ratio',\n",
            "       'Average Packet Size', 'Avg Fwd Segment Size', 'Avg Bwd Segment Size',\n",
            "       'Fwd Header Length.1', 'Fwd Avg Bytes/Bulk', 'Fwd Avg Packets/Bulk',\n",
            "       'Fwd Avg Bulk Rate', 'Bwd Avg Bytes/Bulk', 'Bwd Avg Packets/Bulk',\n",
            "       'Bwd Avg Bulk Rate', 'Subflow Fwd Packets', 'Subflow Fwd Bytes',\n",
            "       'Subflow Bwd Packets', 'Subflow Bwd Bytes', 'Init_Win_bytes_forward',\n",
            "       'Init_Win_bytes_backward', 'act_data_pkt_fwd', 'min_seg_size_forward',\n",
            "       'Active Mean', 'Active Std', 'Active Max', 'Active Min', 'Idle Mean',\n",
            "       'Idle Std', 'Idle Max', 'Idle Min', 'Label'],\n",
            "      dtype='object')\n"
          ]
        }
      ],
      "source": [
        "print(data1.columns)\n"
      ]
    },
    {
      "cell_type": "code",
      "execution_count": null,
      "metadata": {
        "ExecuteTime": {
          "start_time": "2023-04-14T10:33:12.344062Z",
          "end_time": "2023-04-14T10:33:12.664755Z"
        },
        "id": "gGjOpLMvOulA"
      },
      "outputs": [],
      "source": [
        "df=df.drop(['Flow ID','Destination IP','Fwd Packet Length Max','Fwd Packet Length Min','Bwd Packet Length Max','Bwd Packet Length Min','Flow IAT Max','Flow IAT Min','Fwd IAT Max','Fwd IAT Min','Bwd IAT Max','Bwd IAT Min','Min Packet Length','Max Packet Length','Packet Length Variance','Fwd Header Length','Fwd Avg Bytes/Bulk','Fwd Avg Packets/Bulk','Fwd Avg Bulk Rate','Bwd Avg Bytes/Bulk','Bwd Avg Packets/Bulk','Active Max','Active Min','Idle Max','Idle Min','Label'],axis=1)"
      ]
    },
    {
      "cell_type": "code",
      "execution_count": null,
      "metadata": {
        "ExecuteTime": {
          "start_time": "2023-04-14T10:33:12.369846Z",
          "end_time": "2023-04-14T10:33:12.674696Z"
        },
        "colab": {
          "base_uri": "https://localhost:8080/"
        },
        "id": "n79d3Z-jpljr",
        "outputId": "e2fa6b98-858f-48fe-e4c2-52aa73552173"
      },
      "outputs": [
        {
          "output_type": "stream",
          "name": "stdout",
          "text": [
            "<class 'pandas.core.frame.DataFrame'>\n",
            "Int64Index: 29032 entries, 0 to 1969\n",
            "Data columns (total 59 columns):\n",
            " #   Column                       Non-Null Count  Dtype  \n",
            "---  ------                       --------------  -----  \n",
            " 0   Source IP                    29032 non-null  object \n",
            " 1   Source Port                  29032 non-null  int64  \n",
            " 2   Destination Port             29032 non-null  int64  \n",
            " 3   Protocol                     29032 non-null  int64  \n",
            " 4   Timestamp                    29032 non-null  object \n",
            " 5   Flow Duration                29032 non-null  int64  \n",
            " 6   Total Fwd Packets            29032 non-null  int64  \n",
            " 7   Total Backward Packets       29032 non-null  int64  \n",
            " 8   Total Length of Fwd Packets  29032 non-null  int64  \n",
            " 9   Total Length of Bwd Packets  29032 non-null  float64\n",
            " 10  Fwd Packet Length Mean       29032 non-null  float64\n",
            " 11  Fwd Packet Length Std        29032 non-null  float64\n",
            " 12  Bwd Packet Length Mean       29032 non-null  float64\n",
            " 13  Bwd Packet Length Std        29032 non-null  float64\n",
            " 14  Flow Bytes/s                 29032 non-null  float64\n",
            " 15  Flow Packets/s               29032 non-null  float64\n",
            " 16  Flow IAT Mean                29032 non-null  float64\n",
            " 17  Flow IAT Std                 29032 non-null  float64\n",
            " 18  Fwd IAT Total                29032 non-null  float64\n",
            " 19  Fwd IAT Mean                 29032 non-null  float64\n",
            " 20  Fwd IAT Std                  29032 non-null  float64\n",
            " 21  Bwd IAT Total                29032 non-null  float64\n",
            " 22  Bwd IAT Mean                 29032 non-null  float64\n",
            " 23  Bwd IAT Std                  29032 non-null  float64\n",
            " 24  Fwd PSH Flags                29032 non-null  int64  \n",
            " 25  Bwd PSH Flags                29032 non-null  int64  \n",
            " 26  Fwd URG Flags                29032 non-null  int64  \n",
            " 27  Bwd URG Flags                29032 non-null  int64  \n",
            " 28  Bwd Header Length            29032 non-null  int64  \n",
            " 29  Fwd Packets/s                29032 non-null  float64\n",
            " 30  Bwd Packets/s                29032 non-null  float64\n",
            " 31  Packet Length Mean           29032 non-null  float64\n",
            " 32  Packet Length Std            29032 non-null  float64\n",
            " 33  FIN Flag Count               29032 non-null  int64  \n",
            " 34  SYN Flag Count               29032 non-null  int64  \n",
            " 35  RST Flag Count               29032 non-null  int64  \n",
            " 36  PSH Flag Count               29032 non-null  int64  \n",
            " 37  ACK Flag Count               29032 non-null  int64  \n",
            " 38  URG Flag Count               29032 non-null  int64  \n",
            " 39  CWE Flag Count               29032 non-null  int64  \n",
            " 40  ECE Flag Count               29032 non-null  int64  \n",
            " 41  Down/Up Ratio                29032 non-null  int64  \n",
            " 42  Average Packet Size          29032 non-null  float64\n",
            " 43  Avg Fwd Segment Size         29032 non-null  float64\n",
            " 44  Avg Bwd Segment Size         29032 non-null  float64\n",
            " 45  Fwd Header Length.1          29032 non-null  int64  \n",
            " 46  Bwd Avg Bulk Rate            29032 non-null  int64  \n",
            " 47  Subflow Fwd Packets          29032 non-null  int64  \n",
            " 48  Subflow Fwd Bytes            29032 non-null  int64  \n",
            " 49  Subflow Bwd Packets          29032 non-null  int64  \n",
            " 50  Subflow Bwd Bytes            29032 non-null  int64  \n",
            " 51  Init_Win_bytes_forward       29032 non-null  int64  \n",
            " 52  Init_Win_bytes_backward      29032 non-null  int64  \n",
            " 53  act_data_pkt_fwd             29032 non-null  int64  \n",
            " 54  min_seg_size_forward         29032 non-null  int64  \n",
            " 55  Active Mean                  29032 non-null  float64\n",
            " 56  Active Std                   29032 non-null  float64\n",
            " 57  Idle Mean                    29032 non-null  float64\n",
            " 58  Idle Std                     29032 non-null  float64\n",
            "dtypes: float64(26), int64(31), object(2)\n",
            "memory usage: 13.3+ MB\n"
          ]
        }
      ],
      "source": [
        "df.info()"
      ]
    },
    {
      "cell_type": "code",
      "execution_count": null,
      "metadata": {
        "ExecuteTime": {
          "start_time": "2023-04-14T10:33:12.389451Z",
          "end_time": "2023-04-14T10:33:12.695722Z"
        },
        "id": "51sPQSKbpljs"
      },
      "outputs": [],
      "source": [
        "\n",
        "import pandas as pd\n",
        "import ipaddress\n",
        "from sklearn.preprocessing import LabelEncoder\n",
        "\n",
        "df['Source IP'] = df['Source IP'].apply(lambda x: int(ipaddress.IPv4Address(x)))\n",
        "\n",
        "# convert the time attribute to a datetime object\n",
        "df['Timestamp'] = pd.to_datetime(df['Timestamp'])\n",
        "# encode the time attribute as a numeric feature\n",
        "df['Timestamp'] = df['Timestamp'].astype('int64') / 10**9\n",
        "\n"
      ]
    },
    {
      "cell_type": "code",
      "execution_count": null,
      "metadata": {
        "ExecuteTime": {
          "start_time": "2023-04-14T10:33:12.564134Z",
          "end_time": "2023-04-14T10:33:12.695722Z"
        },
        "id": "-za_BVmMpljs"
      },
      "outputs": [],
      "source": [
        "from sklearn import preprocessing\n",
        "label_encoder = preprocessing.LabelEncoder()\n",
        "y = label_encoder.fit_transform(y)"
      ]
    },
    {
      "cell_type": "code",
      "execution_count": null,
      "metadata": {
        "ExecuteTime": {
          "start_time": "2023-04-14T10:33:12.573190Z",
          "end_time": "2023-04-14T10:33:12.695722Z"
        },
        "colab": {
          "base_uri": "https://localhost:8080/",
          "height": 495
        },
        "id": "NgjhaKtLpljs",
        "outputId": "83e3f412-7b2d-4f6b-9d4f-53f320acdf4b"
      },
      "outputs": [
        {
          "output_type": "execute_result",
          "data": {
            "text/plain": [
              "       Source IP  Source Port  Destination Port  Protocol     Timestamp  \\\n",
              "0      170524883        54819               443         6  1.497414e+09   \n",
              "1      170524883        51023               443         6  1.497414e+09   \n",
              "2      170524883        39805               443         6  1.497414e+09   \n",
              "3      170524883        39805               443         6  1.497414e+09   \n",
              "4     2899902702          443             36040         6  1.497414e+09   \n",
              "...          ...          ...               ...       ...           ...   \n",
              "1965   170524883        23816                53        17  1.497523e+09   \n",
              "1966   170524883        13975                53        17  1.497525e+09   \n",
              "1967   170524883        43678               443         6  1.497523e+09   \n",
              "1968   170524883         5353              5353        17  1.497525e+09   \n",
              "1969   170524883        24136                53        17  1.497525e+09   \n",
              "\n",
              "      Flow Duration  Total Fwd Packets  Total Backward Packets  \\\n",
              "0               194                  2                       0   \n",
              "1                 5                  2                       0   \n",
              "2            199542                  9                       8   \n",
              "3               254                  2                       0   \n",
              "4           2164751                  1                       3   \n",
              "...             ...                ...                     ...   \n",
              "1965          30892                  1                       1   \n",
              "1966         566574                  1                       1   \n",
              "1967       14174876                  9                       7   \n",
              "1968        2090904                  8                       0   \n",
              "1969         155124                  1                       1   \n",
              "\n",
              "      Total Length of Fwd Packets  Total Length of Bwd Packets  ...  \\\n",
              "0                              31                          0.0  ...   \n",
              "1                              23                          0.0  ...   \n",
              "2                            1076                       4575.0  ...   \n",
              "3                              23                          0.0  ...   \n",
              "4                               0                         23.0  ...   \n",
              "...                           ...                          ...  ...   \n",
              "1965                           31                         92.0  ...   \n",
              "1966                           29                         84.0  ...   \n",
              "1967                          332                       3810.0  ...   \n",
              "1968                          488                          0.0  ...   \n",
              "1969                           29                        145.0  ...   \n",
              "\n",
              "      Subflow Bwd Packets  Subflow Bwd Bytes  Init_Win_bytes_forward  \\\n",
              "0                       0                  0                    1420   \n",
              "1                       0                  0                    1593   \n",
              "2                       8               4575                   65535   \n",
              "3                       0                  0                    1594   \n",
              "4                       3                 23                     349   \n",
              "...                   ...                ...                     ...   \n",
              "1965                    1                 92                      -1   \n",
              "1966                    1                 84                      -1   \n",
              "1967                    7               3810                   65535   \n",
              "1968                    0                  0                      -1   \n",
              "1969                    1                145                      -1   \n",
              "\n",
              "      Init_Win_bytes_backward  act_data_pkt_fwd  min_seg_size_forward  \\\n",
              "0                          -1                 0                    32   \n",
              "1                          -1                 0                    32   \n",
              "2                         353                 3                    32   \n",
              "3                          -1                 0                    32   \n",
              "4                        1419                 0                    32   \n",
              "...                       ...               ...                   ...   \n",
              "1965                       -1                 0                    32   \n",
              "1966                       -1                 0                    20   \n",
              "1967                      114                 2                    32   \n",
              "1968                       -1                 7                    32   \n",
              "1969                       -1                 0                    32   \n",
              "\n",
              "      Active Mean  Active Std   Idle Mean  Idle Std  \n",
              "0             0.0         0.0         0.0       0.0  \n",
              "1             0.0         0.0         0.0       0.0  \n",
              "2             0.0         0.0         0.0       0.0  \n",
              "3             0.0         0.0         0.0       0.0  \n",
              "4             0.0         0.0         0.0       0.0  \n",
              "...           ...         ...         ...       ...  \n",
              "1965          0.0         0.0         0.0       0.0  \n",
              "1966          0.0         0.0         0.0       0.0  \n",
              "1967     219369.0         0.0  14000000.0       0.0  \n",
              "1968          0.0         0.0         0.0       0.0  \n",
              "1969          0.0         0.0         0.0       0.0  \n",
              "\n",
              "[29032 rows x 59 columns]"
            ],
            "text/html": [
              "\n",
              "  <div id=\"df-2222810b-24fb-410a-82c7-ab7a7b4ead95\" class=\"colab-df-container\">\n",
              "    <div>\n",
              "<style scoped>\n",
              "    .dataframe tbody tr th:only-of-type {\n",
              "        vertical-align: middle;\n",
              "    }\n",
              "\n",
              "    .dataframe tbody tr th {\n",
              "        vertical-align: top;\n",
              "    }\n",
              "\n",
              "    .dataframe thead th {\n",
              "        text-align: right;\n",
              "    }\n",
              "</style>\n",
              "<table border=\"1\" class=\"dataframe\">\n",
              "  <thead>\n",
              "    <tr style=\"text-align: right;\">\n",
              "      <th></th>\n",
              "      <th>Source IP</th>\n",
              "      <th>Source Port</th>\n",
              "      <th>Destination Port</th>\n",
              "      <th>Protocol</th>\n",
              "      <th>Timestamp</th>\n",
              "      <th>Flow Duration</th>\n",
              "      <th>Total Fwd Packets</th>\n",
              "      <th>Total Backward Packets</th>\n",
              "      <th>Total Length of Fwd Packets</th>\n",
              "      <th>Total Length of Bwd Packets</th>\n",
              "      <th>...</th>\n",
              "      <th>Subflow Bwd Packets</th>\n",
              "      <th>Subflow Bwd Bytes</th>\n",
              "      <th>Init_Win_bytes_forward</th>\n",
              "      <th>Init_Win_bytes_backward</th>\n",
              "      <th>act_data_pkt_fwd</th>\n",
              "      <th>min_seg_size_forward</th>\n",
              "      <th>Active Mean</th>\n",
              "      <th>Active Std</th>\n",
              "      <th>Idle Mean</th>\n",
              "      <th>Idle Std</th>\n",
              "    </tr>\n",
              "  </thead>\n",
              "  <tbody>\n",
              "    <tr>\n",
              "      <th>0</th>\n",
              "      <td>170524883</td>\n",
              "      <td>54819</td>\n",
              "      <td>443</td>\n",
              "      <td>6</td>\n",
              "      <td>1.497414e+09</td>\n",
              "      <td>194</td>\n",
              "      <td>2</td>\n",
              "      <td>0</td>\n",
              "      <td>31</td>\n",
              "      <td>0.0</td>\n",
              "      <td>...</td>\n",
              "      <td>0</td>\n",
              "      <td>0</td>\n",
              "      <td>1420</td>\n",
              "      <td>-1</td>\n",
              "      <td>0</td>\n",
              "      <td>32</td>\n",
              "      <td>0.0</td>\n",
              "      <td>0.0</td>\n",
              "      <td>0.0</td>\n",
              "      <td>0.0</td>\n",
              "    </tr>\n",
              "    <tr>\n",
              "      <th>1</th>\n",
              "      <td>170524883</td>\n",
              "      <td>51023</td>\n",
              "      <td>443</td>\n",
              "      <td>6</td>\n",
              "      <td>1.497414e+09</td>\n",
              "      <td>5</td>\n",
              "      <td>2</td>\n",
              "      <td>0</td>\n",
              "      <td>23</td>\n",
              "      <td>0.0</td>\n",
              "      <td>...</td>\n",
              "      <td>0</td>\n",
              "      <td>0</td>\n",
              "      <td>1593</td>\n",
              "      <td>-1</td>\n",
              "      <td>0</td>\n",
              "      <td>32</td>\n",
              "      <td>0.0</td>\n",
              "      <td>0.0</td>\n",
              "      <td>0.0</td>\n",
              "      <td>0.0</td>\n",
              "    </tr>\n",
              "    <tr>\n",
              "      <th>2</th>\n",
              "      <td>170524883</td>\n",
              "      <td>39805</td>\n",
              "      <td>443</td>\n",
              "      <td>6</td>\n",
              "      <td>1.497414e+09</td>\n",
              "      <td>199542</td>\n",
              "      <td>9</td>\n",
              "      <td>8</td>\n",
              "      <td>1076</td>\n",
              "      <td>4575.0</td>\n",
              "      <td>...</td>\n",
              "      <td>8</td>\n",
              "      <td>4575</td>\n",
              "      <td>65535</td>\n",
              "      <td>353</td>\n",
              "      <td>3</td>\n",
              "      <td>32</td>\n",
              "      <td>0.0</td>\n",
              "      <td>0.0</td>\n",
              "      <td>0.0</td>\n",
              "      <td>0.0</td>\n",
              "    </tr>\n",
              "    <tr>\n",
              "      <th>3</th>\n",
              "      <td>170524883</td>\n",
              "      <td>39805</td>\n",
              "      <td>443</td>\n",
              "      <td>6</td>\n",
              "      <td>1.497414e+09</td>\n",
              "      <td>254</td>\n",
              "      <td>2</td>\n",
              "      <td>0</td>\n",
              "      <td>23</td>\n",
              "      <td>0.0</td>\n",
              "      <td>...</td>\n",
              "      <td>0</td>\n",
              "      <td>0</td>\n",
              "      <td>1594</td>\n",
              "      <td>-1</td>\n",
              "      <td>0</td>\n",
              "      <td>32</td>\n",
              "      <td>0.0</td>\n",
              "      <td>0.0</td>\n",
              "      <td>0.0</td>\n",
              "      <td>0.0</td>\n",
              "    </tr>\n",
              "    <tr>\n",
              "      <th>4</th>\n",
              "      <td>2899902702</td>\n",
              "      <td>443</td>\n",
              "      <td>36040</td>\n",
              "      <td>6</td>\n",
              "      <td>1.497414e+09</td>\n",
              "      <td>2164751</td>\n",
              "      <td>1</td>\n",
              "      <td>3</td>\n",
              "      <td>0</td>\n",
              "      <td>23.0</td>\n",
              "      <td>...</td>\n",
              "      <td>3</td>\n",
              "      <td>23</td>\n",
              "      <td>349</td>\n",
              "      <td>1419</td>\n",
              "      <td>0</td>\n",
              "      <td>32</td>\n",
              "      <td>0.0</td>\n",
              "      <td>0.0</td>\n",
              "      <td>0.0</td>\n",
              "      <td>0.0</td>\n",
              "    </tr>\n",
              "    <tr>\n",
              "      <th>...</th>\n",
              "      <td>...</td>\n",
              "      <td>...</td>\n",
              "      <td>...</td>\n",
              "      <td>...</td>\n",
              "      <td>...</td>\n",
              "      <td>...</td>\n",
              "      <td>...</td>\n",
              "      <td>...</td>\n",
              "      <td>...</td>\n",
              "      <td>...</td>\n",
              "      <td>...</td>\n",
              "      <td>...</td>\n",
              "      <td>...</td>\n",
              "      <td>...</td>\n",
              "      <td>...</td>\n",
              "      <td>...</td>\n",
              "      <td>...</td>\n",
              "      <td>...</td>\n",
              "      <td>...</td>\n",
              "      <td>...</td>\n",
              "      <td>...</td>\n",
              "    </tr>\n",
              "    <tr>\n",
              "      <th>1965</th>\n",
              "      <td>170524883</td>\n",
              "      <td>23816</td>\n",
              "      <td>53</td>\n",
              "      <td>17</td>\n",
              "      <td>1.497523e+09</td>\n",
              "      <td>30892</td>\n",
              "      <td>1</td>\n",
              "      <td>1</td>\n",
              "      <td>31</td>\n",
              "      <td>92.0</td>\n",
              "      <td>...</td>\n",
              "      <td>1</td>\n",
              "      <td>92</td>\n",
              "      <td>-1</td>\n",
              "      <td>-1</td>\n",
              "      <td>0</td>\n",
              "      <td>32</td>\n",
              "      <td>0.0</td>\n",
              "      <td>0.0</td>\n",
              "      <td>0.0</td>\n",
              "      <td>0.0</td>\n",
              "    </tr>\n",
              "    <tr>\n",
              "      <th>1966</th>\n",
              "      <td>170524883</td>\n",
              "      <td>13975</td>\n",
              "      <td>53</td>\n",
              "      <td>17</td>\n",
              "      <td>1.497525e+09</td>\n",
              "      <td>566574</td>\n",
              "      <td>1</td>\n",
              "      <td>1</td>\n",
              "      <td>29</td>\n",
              "      <td>84.0</td>\n",
              "      <td>...</td>\n",
              "      <td>1</td>\n",
              "      <td>84</td>\n",
              "      <td>-1</td>\n",
              "      <td>-1</td>\n",
              "      <td>0</td>\n",
              "      <td>20</td>\n",
              "      <td>0.0</td>\n",
              "      <td>0.0</td>\n",
              "      <td>0.0</td>\n",
              "      <td>0.0</td>\n",
              "    </tr>\n",
              "    <tr>\n",
              "      <th>1967</th>\n",
              "      <td>170524883</td>\n",
              "      <td>43678</td>\n",
              "      <td>443</td>\n",
              "      <td>6</td>\n",
              "      <td>1.497523e+09</td>\n",
              "      <td>14174876</td>\n",
              "      <td>9</td>\n",
              "      <td>7</td>\n",
              "      <td>332</td>\n",
              "      <td>3810.0</td>\n",
              "      <td>...</td>\n",
              "      <td>7</td>\n",
              "      <td>3810</td>\n",
              "      <td>65535</td>\n",
              "      <td>114</td>\n",
              "      <td>2</td>\n",
              "      <td>32</td>\n",
              "      <td>219369.0</td>\n",
              "      <td>0.0</td>\n",
              "      <td>14000000.0</td>\n",
              "      <td>0.0</td>\n",
              "    </tr>\n",
              "    <tr>\n",
              "      <th>1968</th>\n",
              "      <td>170524883</td>\n",
              "      <td>5353</td>\n",
              "      <td>5353</td>\n",
              "      <td>17</td>\n",
              "      <td>1.497525e+09</td>\n",
              "      <td>2090904</td>\n",
              "      <td>8</td>\n",
              "      <td>0</td>\n",
              "      <td>488</td>\n",
              "      <td>0.0</td>\n",
              "      <td>...</td>\n",
              "      <td>0</td>\n",
              "      <td>0</td>\n",
              "      <td>-1</td>\n",
              "      <td>-1</td>\n",
              "      <td>7</td>\n",
              "      <td>32</td>\n",
              "      <td>0.0</td>\n",
              "      <td>0.0</td>\n",
              "      <td>0.0</td>\n",
              "      <td>0.0</td>\n",
              "    </tr>\n",
              "    <tr>\n",
              "      <th>1969</th>\n",
              "      <td>170524883</td>\n",
              "      <td>24136</td>\n",
              "      <td>53</td>\n",
              "      <td>17</td>\n",
              "      <td>1.497525e+09</td>\n",
              "      <td>155124</td>\n",
              "      <td>1</td>\n",
              "      <td>1</td>\n",
              "      <td>29</td>\n",
              "      <td>145.0</td>\n",
              "      <td>...</td>\n",
              "      <td>1</td>\n",
              "      <td>145</td>\n",
              "      <td>-1</td>\n",
              "      <td>-1</td>\n",
              "      <td>0</td>\n",
              "      <td>32</td>\n",
              "      <td>0.0</td>\n",
              "      <td>0.0</td>\n",
              "      <td>0.0</td>\n",
              "      <td>0.0</td>\n",
              "    </tr>\n",
              "  </tbody>\n",
              "</table>\n",
              "<p>29032 rows × 59 columns</p>\n",
              "</div>\n",
              "    <div class=\"colab-df-buttons\">\n",
              "\n",
              "  <div class=\"colab-df-container\">\n",
              "    <button class=\"colab-df-convert\" onclick=\"convertToInteractive('df-2222810b-24fb-410a-82c7-ab7a7b4ead95')\"\n",
              "            title=\"Convert this dataframe to an interactive table.\"\n",
              "            style=\"display:none;\">\n",
              "\n",
              "  <svg xmlns=\"http://www.w3.org/2000/svg\" height=\"24px\" viewBox=\"0 -960 960 960\">\n",
              "    <path d=\"M120-120v-720h720v720H120Zm60-500h600v-160H180v160Zm220 220h160v-160H400v160Zm0 220h160v-160H400v160ZM180-400h160v-160H180v160Zm440 0h160v-160H620v160ZM180-180h160v-160H180v160Zm440 0h160v-160H620v160Z\"/>\n",
              "  </svg>\n",
              "    </button>\n",
              "\n",
              "  <style>\n",
              "    .colab-df-container {\n",
              "      display:flex;\n",
              "      gap: 12px;\n",
              "    }\n",
              "\n",
              "    .colab-df-convert {\n",
              "      background-color: #E8F0FE;\n",
              "      border: none;\n",
              "      border-radius: 50%;\n",
              "      cursor: pointer;\n",
              "      display: none;\n",
              "      fill: #1967D2;\n",
              "      height: 32px;\n",
              "      padding: 0 0 0 0;\n",
              "      width: 32px;\n",
              "    }\n",
              "\n",
              "    .colab-df-convert:hover {\n",
              "      background-color: #E2EBFA;\n",
              "      box-shadow: 0px 1px 2px rgba(60, 64, 67, 0.3), 0px 1px 3px 1px rgba(60, 64, 67, 0.15);\n",
              "      fill: #174EA6;\n",
              "    }\n",
              "\n",
              "    .colab-df-buttons div {\n",
              "      margin-bottom: 4px;\n",
              "    }\n",
              "\n",
              "    [theme=dark] .colab-df-convert {\n",
              "      background-color: #3B4455;\n",
              "      fill: #D2E3FC;\n",
              "    }\n",
              "\n",
              "    [theme=dark] .colab-df-convert:hover {\n",
              "      background-color: #434B5C;\n",
              "      box-shadow: 0px 1px 3px 1px rgba(0, 0, 0, 0.15);\n",
              "      filter: drop-shadow(0px 1px 2px rgba(0, 0, 0, 0.3));\n",
              "      fill: #FFFFFF;\n",
              "    }\n",
              "  </style>\n",
              "\n",
              "    <script>\n",
              "      const buttonEl =\n",
              "        document.querySelector('#df-2222810b-24fb-410a-82c7-ab7a7b4ead95 button.colab-df-convert');\n",
              "      buttonEl.style.display =\n",
              "        google.colab.kernel.accessAllowed ? 'block' : 'none';\n",
              "\n",
              "      async function convertToInteractive(key) {\n",
              "        const element = document.querySelector('#df-2222810b-24fb-410a-82c7-ab7a7b4ead95');\n",
              "        const dataTable =\n",
              "          await google.colab.kernel.invokeFunction('convertToInteractive',\n",
              "                                                    [key], {});\n",
              "        if (!dataTable) return;\n",
              "\n",
              "        const docLinkHtml = 'Like what you see? Visit the ' +\n",
              "          '<a target=\"_blank\" href=https://colab.research.google.com/notebooks/data_table.ipynb>data table notebook</a>'\n",
              "          + ' to learn more about interactive tables.';\n",
              "        element.innerHTML = '';\n",
              "        dataTable['output_type'] = 'display_data';\n",
              "        await google.colab.output.renderOutput(dataTable, element);\n",
              "        const docLink = document.createElement('div');\n",
              "        docLink.innerHTML = docLinkHtml;\n",
              "        element.appendChild(docLink);\n",
              "      }\n",
              "    </script>\n",
              "  </div>\n",
              "\n",
              "\n",
              "<div id=\"df-21bc15e0-2e00-4a12-b122-4dfa056ecba2\">\n",
              "  <button class=\"colab-df-quickchart\" onclick=\"quickchart('df-21bc15e0-2e00-4a12-b122-4dfa056ecba2')\"\n",
              "            title=\"Suggest charts\"\n",
              "            style=\"display:none;\">\n",
              "\n",
              "<svg xmlns=\"http://www.w3.org/2000/svg\" height=\"24px\"viewBox=\"0 0 24 24\"\n",
              "     width=\"24px\">\n",
              "    <g>\n",
              "        <path d=\"M19 3H5c-1.1 0-2 .9-2 2v14c0 1.1.9 2 2 2h14c1.1 0 2-.9 2-2V5c0-1.1-.9-2-2-2zM9 17H7v-7h2v7zm4 0h-2V7h2v10zm4 0h-2v-4h2v4z\"/>\n",
              "    </g>\n",
              "</svg>\n",
              "  </button>\n",
              "\n",
              "<style>\n",
              "  .colab-df-quickchart {\n",
              "      --bg-color: #E8F0FE;\n",
              "      --fill-color: #1967D2;\n",
              "      --hover-bg-color: #E2EBFA;\n",
              "      --hover-fill-color: #174EA6;\n",
              "      --disabled-fill-color: #AAA;\n",
              "      --disabled-bg-color: #DDD;\n",
              "  }\n",
              "\n",
              "  [theme=dark] .colab-df-quickchart {\n",
              "      --bg-color: #3B4455;\n",
              "      --fill-color: #D2E3FC;\n",
              "      --hover-bg-color: #434B5C;\n",
              "      --hover-fill-color: #FFFFFF;\n",
              "      --disabled-bg-color: #3B4455;\n",
              "      --disabled-fill-color: #666;\n",
              "  }\n",
              "\n",
              "  .colab-df-quickchart {\n",
              "    background-color: var(--bg-color);\n",
              "    border: none;\n",
              "    border-radius: 50%;\n",
              "    cursor: pointer;\n",
              "    display: none;\n",
              "    fill: var(--fill-color);\n",
              "    height: 32px;\n",
              "    padding: 0;\n",
              "    width: 32px;\n",
              "  }\n",
              "\n",
              "  .colab-df-quickchart:hover {\n",
              "    background-color: var(--hover-bg-color);\n",
              "    box-shadow: 0 1px 2px rgba(60, 64, 67, 0.3), 0 1px 3px 1px rgba(60, 64, 67, 0.15);\n",
              "    fill: var(--button-hover-fill-color);\n",
              "  }\n",
              "\n",
              "  .colab-df-quickchart-complete:disabled,\n",
              "  .colab-df-quickchart-complete:disabled:hover {\n",
              "    background-color: var(--disabled-bg-color);\n",
              "    fill: var(--disabled-fill-color);\n",
              "    box-shadow: none;\n",
              "  }\n",
              "\n",
              "  .colab-df-spinner {\n",
              "    border: 2px solid var(--fill-color);\n",
              "    border-color: transparent;\n",
              "    border-bottom-color: var(--fill-color);\n",
              "    animation:\n",
              "      spin 1s steps(1) infinite;\n",
              "  }\n",
              "\n",
              "  @keyframes spin {\n",
              "    0% {\n",
              "      border-color: transparent;\n",
              "      border-bottom-color: var(--fill-color);\n",
              "      border-left-color: var(--fill-color);\n",
              "    }\n",
              "    20% {\n",
              "      border-color: transparent;\n",
              "      border-left-color: var(--fill-color);\n",
              "      border-top-color: var(--fill-color);\n",
              "    }\n",
              "    30% {\n",
              "      border-color: transparent;\n",
              "      border-left-color: var(--fill-color);\n",
              "      border-top-color: var(--fill-color);\n",
              "      border-right-color: var(--fill-color);\n",
              "    }\n",
              "    40% {\n",
              "      border-color: transparent;\n",
              "      border-right-color: var(--fill-color);\n",
              "      border-top-color: var(--fill-color);\n",
              "    }\n",
              "    60% {\n",
              "      border-color: transparent;\n",
              "      border-right-color: var(--fill-color);\n",
              "    }\n",
              "    80% {\n",
              "      border-color: transparent;\n",
              "      border-right-color: var(--fill-color);\n",
              "      border-bottom-color: var(--fill-color);\n",
              "    }\n",
              "    90% {\n",
              "      border-color: transparent;\n",
              "      border-bottom-color: var(--fill-color);\n",
              "    }\n",
              "  }\n",
              "</style>\n",
              "\n",
              "  <script>\n",
              "    async function quickchart(key) {\n",
              "      const quickchartButtonEl =\n",
              "        document.querySelector('#' + key + ' button');\n",
              "      quickchartButtonEl.disabled = true;  // To prevent multiple clicks.\n",
              "      quickchartButtonEl.classList.add('colab-df-spinner');\n",
              "      try {\n",
              "        const charts = await google.colab.kernel.invokeFunction(\n",
              "            'suggestCharts', [key], {});\n",
              "      } catch (error) {\n",
              "        console.error('Error during call to suggestCharts:', error);\n",
              "      }\n",
              "      quickchartButtonEl.classList.remove('colab-df-spinner');\n",
              "      quickchartButtonEl.classList.add('colab-df-quickchart-complete');\n",
              "    }\n",
              "    (() => {\n",
              "      let quickchartButtonEl =\n",
              "        document.querySelector('#df-21bc15e0-2e00-4a12-b122-4dfa056ecba2 button');\n",
              "      quickchartButtonEl.style.display =\n",
              "        google.colab.kernel.accessAllowed ? 'block' : 'none';\n",
              "    })();\n",
              "  </script>\n",
              "</div>\n",
              "    </div>\n",
              "  </div>\n"
            ]
          },
          "metadata": {},
          "execution_count": 18
        }
      ],
      "source": [
        "df"
      ]
    },
    {
      "cell_type": "code",
      "execution_count": null,
      "metadata": {
        "ExecuteTime": {
          "start_time": "2023-04-14T10:33:12.615257Z",
          "end_time": "2023-04-14T10:33:13.031880Z"
        },
        "id": "Scc9N2n4LpU0"
      },
      "outputs": [],
      "source": [
        "from sklearn.model_selection import train_test_split\n",
        "X_train, X_test, y_train, y_test = train_test_split(df, y, test_size=0.2, random_state=1, stratify=y)"
      ]
    },
    {
      "cell_type": "markdown",
      "source": [
        "## Score"
      ],
      "metadata": {
        "collapsed": false,
        "id": "ZOVFThyDpljt"
      }
    },
    {
      "cell_type": "code",
      "execution_count": null,
      "outputs": [],
      "source": [
        "from IPython.core.pylabtools import figsize\n",
        "from matplotlib import pyplot as plt\n",
        "import seaborn as sns\n",
        "from sklearn.metrics import accuracy_score, log_loss, precision_score, recall_score, f1_score, roc_auc_score, confusion_matrix\n",
        "from sklearn.metrics import classification_report\n",
        "\n",
        "def matrix(mod,y_pred):\n",
        "    # Compute classification metrics\n",
        "    print(\"Accuracy :\",accuracy_score(y_test, y_pred))\n",
        "\n",
        "    cm = confusion_matrix(y_test, y_pred)\n",
        "    # Plot the confusion matrix using seaborn\n",
        "    plt.figure(figsize(10,10))\n",
        "    sns.heatmap(cm, annot=True, fmt='d')\n",
        "\n",
        "    print ('Classification Report \\n: ',classification_report(y_test, y_pred))"
      ],
      "metadata": {
        "ExecuteTime": {
          "start_time": "2023-04-14T10:33:12.674165Z",
          "end_time": "2023-04-14T10:33:13.038314Z"
        },
        "id": "8Gk6WWY1pljt"
      }
    },
    {
      "cell_type": "markdown",
      "metadata": {
        "id": "bTVLOb0gpljt"
      },
      "source": [
        "## Decision Tree"
      ]
    },
    {
      "cell_type": "code",
      "execution_count": null,
      "metadata": {
        "ExecuteTime": {
          "start_time": "2023-04-14T10:33:12.679435Z",
          "end_time": "2023-04-14T10:33:13.235436Z"
        },
        "colab": {
          "base_uri": "https://localhost:8080/",
          "height": 74
        },
        "id": "E0sdsTmSpljt",
        "outputId": "6d576f02-b1ce-4890-b3d7-88da72b11e6d"
      },
      "outputs": [
        {
          "output_type": "execute_result",
          "data": {
            "text/plain": [
              "DecisionTreeClassifier(random_state=50)"
            ],
            "text/html": [
              "<style>#sk-container-id-1 {color: black;background-color: white;}#sk-container-id-1 pre{padding: 0;}#sk-container-id-1 div.sk-toggleable {background-color: white;}#sk-container-id-1 label.sk-toggleable__label {cursor: pointer;display: block;width: 100%;margin-bottom: 0;padding: 0.3em;box-sizing: border-box;text-align: center;}#sk-container-id-1 label.sk-toggleable__label-arrow:before {content: \"▸\";float: left;margin-right: 0.25em;color: #696969;}#sk-container-id-1 label.sk-toggleable__label-arrow:hover:before {color: black;}#sk-container-id-1 div.sk-estimator:hover label.sk-toggleable__label-arrow:before {color: black;}#sk-container-id-1 div.sk-toggleable__content {max-height: 0;max-width: 0;overflow: hidden;text-align: left;background-color: #f0f8ff;}#sk-container-id-1 div.sk-toggleable__content pre {margin: 0.2em;color: black;border-radius: 0.25em;background-color: #f0f8ff;}#sk-container-id-1 input.sk-toggleable__control:checked~div.sk-toggleable__content {max-height: 200px;max-width: 100%;overflow: auto;}#sk-container-id-1 input.sk-toggleable__control:checked~label.sk-toggleable__label-arrow:before {content: \"▾\";}#sk-container-id-1 div.sk-estimator input.sk-toggleable__control:checked~label.sk-toggleable__label {background-color: #d4ebff;}#sk-container-id-1 div.sk-label input.sk-toggleable__control:checked~label.sk-toggleable__label {background-color: #d4ebff;}#sk-container-id-1 input.sk-hidden--visually {border: 0;clip: rect(1px 1px 1px 1px);clip: rect(1px, 1px, 1px, 1px);height: 1px;margin: -1px;overflow: hidden;padding: 0;position: absolute;width: 1px;}#sk-container-id-1 div.sk-estimator {font-family: monospace;background-color: #f0f8ff;border: 1px dotted black;border-radius: 0.25em;box-sizing: border-box;margin-bottom: 0.5em;}#sk-container-id-1 div.sk-estimator:hover {background-color: #d4ebff;}#sk-container-id-1 div.sk-parallel-item::after {content: \"\";width: 100%;border-bottom: 1px solid gray;flex-grow: 1;}#sk-container-id-1 div.sk-label:hover label.sk-toggleable__label {background-color: #d4ebff;}#sk-container-id-1 div.sk-serial::before {content: \"\";position: absolute;border-left: 1px solid gray;box-sizing: border-box;top: 0;bottom: 0;left: 50%;z-index: 0;}#sk-container-id-1 div.sk-serial {display: flex;flex-direction: column;align-items: center;background-color: white;padding-right: 0.2em;padding-left: 0.2em;position: relative;}#sk-container-id-1 div.sk-item {position: relative;z-index: 1;}#sk-container-id-1 div.sk-parallel {display: flex;align-items: stretch;justify-content: center;background-color: white;position: relative;}#sk-container-id-1 div.sk-item::before, #sk-container-id-1 div.sk-parallel-item::before {content: \"\";position: absolute;border-left: 1px solid gray;box-sizing: border-box;top: 0;bottom: 0;left: 50%;z-index: -1;}#sk-container-id-1 div.sk-parallel-item {display: flex;flex-direction: column;z-index: 1;position: relative;background-color: white;}#sk-container-id-1 div.sk-parallel-item:first-child::after {align-self: flex-end;width: 50%;}#sk-container-id-1 div.sk-parallel-item:last-child::after {align-self: flex-start;width: 50%;}#sk-container-id-1 div.sk-parallel-item:only-child::after {width: 0;}#sk-container-id-1 div.sk-dashed-wrapped {border: 1px dashed gray;margin: 0 0.4em 0.5em 0.4em;box-sizing: border-box;padding-bottom: 0.4em;background-color: white;}#sk-container-id-1 div.sk-label label {font-family: monospace;font-weight: bold;display: inline-block;line-height: 1.2em;}#sk-container-id-1 div.sk-label-container {text-align: center;}#sk-container-id-1 div.sk-container {/* jupyter's `normalize.less` sets `[hidden] { display: none; }` but bootstrap.min.css set `[hidden] { display: none !important; }` so we also need the `!important` here to be able to override the default hidden behavior on the sphinx rendered scikit-learn.org. See: https://github.com/scikit-learn/scikit-learn/issues/21755 */display: inline-block !important;position: relative;}#sk-container-id-1 div.sk-text-repr-fallback {display: none;}</style><div id=\"sk-container-id-1\" class=\"sk-top-container\"><div class=\"sk-text-repr-fallback\"><pre>DecisionTreeClassifier(random_state=50)</pre><b>In a Jupyter environment, please rerun this cell to show the HTML representation or trust the notebook. <br />On GitHub, the HTML representation is unable to render, please try loading this page with nbviewer.org.</b></div><div class=\"sk-container\" hidden><div class=\"sk-item\"><div class=\"sk-estimator sk-toggleable\"><input class=\"sk-toggleable__control sk-hidden--visually\" id=\"sk-estimator-id-1\" type=\"checkbox\" checked><label for=\"sk-estimator-id-1\" class=\"sk-toggleable__label sk-toggleable__label-arrow\">DecisionTreeClassifier</label><div class=\"sk-toggleable__content\"><pre>DecisionTreeClassifier(random_state=50)</pre></div></div></div></div></div>"
            ]
          },
          "metadata": {},
          "execution_count": 21
        }
      ],
      "source": [
        "from sklearn.tree import DecisionTreeClassifier\n",
        "\n",
        "\n",
        "DT_entropy = DecisionTreeClassifier(random_state=50)\n",
        "DT_entropy.fit(X_train,y_train)"
      ]
    },
    {
      "cell_type": "code",
      "execution_count": null,
      "metadata": {
        "ExecuteTime": {
          "start_time": "2023-04-14T10:33:13.063015Z",
          "end_time": "2023-04-14T10:33:13.286397Z"
        },
        "colab": {
          "base_uri": "https://localhost:8080/"
        },
        "id": "--Mck1T0pljt",
        "outputId": "a636698f-c547-43f2-fef8-d150854e56e1"
      },
      "outputs": [
        {
          "output_type": "stream",
          "name": "stdout",
          "text": [
            "Train R^2 score 1: 1.0\n",
            "Test R^2 score1: 0.9881177888754951\n"
          ]
        }
      ],
      "source": [
        "print(\"Train R^2 score 1:\", DT_entropy.score(X_train, y_train))\n",
        "print(\"Test R^2 score1:\", DT_entropy.score(X_test, y_test))"
      ]
    },
    {
      "cell_type": "markdown",
      "metadata": {
        "id": "f2Px5vhmplju"
      },
      "source": [
        "### Score"
      ]
    },
    {
      "cell_type": "code",
      "execution_count": null,
      "metadata": {
        "ExecuteTime": {
          "start_time": "2023-04-14T10:33:13.087786Z",
          "end_time": "2023-04-14T10:33:14.037379Z"
        },
        "colab": {
          "base_uri": "https://localhost:8080/",
          "height": 1000
        },
        "id": "uzBHH4vpplju",
        "outputId": "765c8659-5db5-4313-c26d-7e9c11534e5b"
      },
      "outputs": [
        {
          "output_type": "stream",
          "name": "stdout",
          "text": [
            "Accuracy : 0.9881177888754951\n",
            "Classification Report \n",
            ":                precision    recall  f1-score   support\n",
            "\n",
            "           0       1.00      1.00      1.00       583\n",
            "           1       1.00      1.00      1.00       578\n",
            "           2       0.98      0.98      0.98       716\n",
            "           3       1.00      1.00      1.00       695\n",
            "           4       0.93      0.93      0.93       473\n",
            "           5       1.00      1.00      1.00       721\n",
            "           6       0.96      0.95      0.95       484\n",
            "           7       1.00      1.00      1.00       553\n",
            "           8       1.00      1.00      1.00       610\n",
            "           9       1.00      1.00      1.00       394\n",
            "\n",
            "    accuracy                           0.99      5807\n",
            "   macro avg       0.99      0.99      0.99      5807\n",
            "weighted avg       0.99      0.99      0.99      5807\n",
            "\n"
          ]
        },
        {
          "output_type": "display_data",
          "data": {
            "text/plain": [
              "<Figure size 1000x1000 with 2 Axes>"
            ],
            "image/png": "[encoded data removed]"
          },
          "metadata": {}
        }
      ],
      "source": [
        "from sklearn.metrics import accuracy_score, log_loss, precision_score, recall_score, f1_score, roc_auc_score, confusion_matrix\n",
        "from sklearn.metrics import classification_report\n",
        "y_pred = DT_entropy.predict(X_test)\n",
        "\n",
        "\n",
        "# Compute classification metrics\n",
        "matrix(DT_entropy,y_pred)"
      ]
    },
    {
      "cell_type": "code",
      "source": [
        "import pickle"
      ],
      "metadata": {
        "id": "ZgdxSZjdNCQS"
      },
      "execution_count": null,
      "outputs": []
    },
    {
      "cell_type": "code",
      "source": [
        "# save the model as a file\n",
        "with open('/content/gdrive/MyDrive/ISM/DT_model.pkl', 'wb') as file:\n",
        "    pickle.dump(DT_entropy, file)"
      ],
      "metadata": {
        "id": "z7jZPBkKNAw-"
      },
      "execution_count": null,
      "outputs": []
    },
    {
      "cell_type": "markdown",
      "metadata": {
        "id": "9_fL8RhZplju"
      },
      "source": [
        "## Multinomial Logestic Regression"
      ]
    },
    {
      "cell_type": "code",
      "execution_count": null,
      "metadata": {
        "ExecuteTime": {
          "start_time": "2023-04-14T10:33:14.030848Z",
          "end_time": "2023-04-14T10:33:14.050321Z"
        },
        "id": "sR6Ac1H2plju"
      },
      "outputs": [],
      "source": [
        "from sklearn.linear_model import LogisticRegression"
      ]
    },
    {
      "cell_type": "code",
      "execution_count": null,
      "metadata": {
        "ExecuteTime": {
          "start_time": "2023-04-14T10:33:14.050321Z",
          "end_time": "2023-04-14T10:33:18.773328Z"
        },
        "colab": {
          "base_uri": "https://localhost:8080/",
          "height": 213
        },
        "id": "akK5rWlzplju",
        "outputId": "51f1264e-8290-48d4-c102-2b3844e8f6a9"
      },
      "outputs": [
        {
          "output_type": "stream",
          "name": "stderr",
          "text": [
            "/usr/local/lib/python3.10/dist-packages/sklearn/linear_model/_logistic.py:458: ConvergenceWarning: lbfgs failed to converge (status=1):\n",
            "STOP: TOTAL NO. of ITERATIONS REACHED LIMIT.\n",
            "\n",
            "Increase the number of iterations (max_iter) or scale the data as shown in:\n",
            "    https://scikit-learn.org/stable/modules/preprocessing.html\n",
            "Please also refer to the documentation for alternative solver options:\n",
            "    https://scikit-learn.org/stable/modules/linear_model.html#logistic-regression\n",
            "  n_iter_i = _check_optimize_result(\n"
          ]
        },
        {
          "output_type": "execute_result",
          "data": {
            "text/plain": [
              "LogisticRegression(multi_class='multinomial')"
            ],
            "text/html": [
              "<style>#sk-container-id-2 {color: black;background-color: white;}#sk-container-id-2 pre{padding: 0;}#sk-container-id-2 div.sk-toggleable {background-color: white;}#sk-container-id-2 label.sk-toggleable__label {cursor: pointer;display: block;width: 100%;margin-bottom: 0;padding: 0.3em;box-sizing: border-box;text-align: center;}#sk-container-id-2 label.sk-toggleable__label-arrow:before {content: \"▸\";float: left;margin-right: 0.25em;color: #696969;}#sk-container-id-2 label.sk-toggleable__label-arrow:hover:before {color: black;}#sk-container-id-2 div.sk-estimator:hover label.sk-toggleable__label-arrow:before {color: black;}#sk-container-id-2 div.sk-toggleable__content {max-height: 0;max-width: 0;overflow: hidden;text-align: left;background-color: #f0f8ff;}#sk-container-id-2 div.sk-toggleable__content pre {margin: 0.2em;color: black;border-radius: 0.25em;background-color: #f0f8ff;}#sk-container-id-2 input.sk-toggleable__control:checked~div.sk-toggleable__content {max-height: 200px;max-width: 100%;overflow: auto;}#sk-container-id-2 input.sk-toggleable__control:checked~label.sk-toggleable__label-arrow:before {content: \"▾\";}#sk-container-id-2 div.sk-estimator input.sk-toggleable__control:checked~label.sk-toggleable__label {background-color: #d4ebff;}#sk-container-id-2 div.sk-label input.sk-toggleable__control:checked~label.sk-toggleable__label {background-color: #d4ebff;}#sk-container-id-2 input.sk-hidden--visually {border: 0;clip: rect(1px 1px 1px 1px);clip: rect(1px, 1px, 1px, 1px);height: 1px;margin: -1px;overflow: hidden;padding: 0;position: absolute;width: 1px;}#sk-container-id-2 div.sk-estimator {font-family: monospace;background-color: #f0f8ff;border: 1px dotted black;border-radius: 0.25em;box-sizing: border-box;margin-bottom: 0.5em;}#sk-container-id-2 div.sk-estimator:hover {background-color: #d4ebff;}#sk-container-id-2 div.sk-parallel-item::after {content: \"\";width: 100%;border-bottom: 1px solid gray;flex-grow: 1;}#sk-container-id-2 div.sk-label:hover label.sk-toggleable__label {background-color: #d4ebff;}#sk-container-id-2 div.sk-serial::before {content: \"\";position: absolute;border-left: 1px solid gray;box-sizing: border-box;top: 0;bottom: 0;left: 50%;z-index: 0;}#sk-container-id-2 div.sk-serial {display: flex;flex-direction: column;align-items: center;background-color: white;padding-right: 0.2em;padding-left: 0.2em;position: relative;}#sk-container-id-2 div.sk-item {position: relative;z-index: 1;}#sk-container-id-2 div.sk-parallel {display: flex;align-items: stretch;justify-content: center;background-color: white;position: relative;}#sk-container-id-2 div.sk-item::before, #sk-container-id-2 div.sk-parallel-item::before {content: \"\";position: absolute;border-left: 1px solid gray;box-sizing: border-box;top: 0;bottom: 0;left: 50%;z-index: -1;}#sk-container-id-2 div.sk-parallel-item {display: flex;flex-direction: column;z-index: 1;position: relative;background-color: white;}#sk-container-id-2 div.sk-parallel-item:first-child::after {align-self: flex-end;width: 50%;}#sk-container-id-2 div.sk-parallel-item:last-child::after {align-self: flex-start;width: 50%;}#sk-container-id-2 div.sk-parallel-item:only-child::after {width: 0;}#sk-container-id-2 div.sk-dashed-wrapped {border: 1px dashed gray;margin: 0 0.4em 0.5em 0.4em;box-sizing: border-box;padding-bottom: 0.4em;background-color: white;}#sk-container-id-2 div.sk-label label {font-family: monospace;font-weight: bold;display: inline-block;line-height: 1.2em;}#sk-container-id-2 div.sk-label-container {text-align: center;}#sk-container-id-2 div.sk-container {/* jupyter's `normalize.less` sets `[hidden] { display: none; }` but bootstrap.min.css set `[hidden] { display: none !important; }` so we also need the `!important` here to be able to override the default hidden behavior on the sphinx rendered scikit-learn.org. See: https://github.com/scikit-learn/scikit-learn/issues/21755 */display: inline-block !important;position: relative;}#sk-container-id-2 div.sk-text-repr-fallback {display: none;}</style><div id=\"sk-container-id-2\" class=\"sk-top-container\"><div class=\"sk-text-repr-fallback\"><pre>LogisticRegression(multi_class=&#x27;multinomial&#x27;)</pre><b>In a Jupyter environment, please rerun this cell to show the HTML representation or trust the notebook. <br />On GitHub, the HTML representation is unable to render, please try loading this page with nbviewer.org.</b></div><div class=\"sk-container\" hidden><div class=\"sk-item\"><div class=\"sk-estimator sk-toggleable\"><input class=\"sk-toggleable__control sk-hidden--visually\" id=\"sk-estimator-id-2\" type=\"checkbox\" checked><label for=\"sk-estimator-id-2\" class=\"sk-toggleable__label sk-toggleable__label-arrow\">LogisticRegression</label><div class=\"sk-toggleable__content\"><pre>LogisticRegression(multi_class=&#x27;multinomial&#x27;)</pre></div></div></div></div></div>"
            ]
          },
          "metadata": {},
          "execution_count": 25
        }
      ],
      "source": [
        "# train the multinomial logistic regression model\n",
        "mlr = LogisticRegression(multi_class='multinomial', solver='lbfgs')\n",
        "mlr.fit(X_train, y_train)"
      ]
    },
    {
      "cell_type": "markdown",
      "metadata": {
        "id": "Mu-DiXOrplju"
      },
      "source": [
        "### Score"
      ]
    },
    {
      "cell_type": "code",
      "execution_count": null,
      "metadata": {
        "ExecuteTime": {
          "start_time": "2023-04-14T10:33:18.742498Z",
          "end_time": "2023-04-14T10:33:19.556741Z"
        },
        "colab": {
          "base_uri": "https://localhost:8080/",
          "height": 1000
        },
        "id": "D3B-NZdHpljv",
        "outputId": "d8a761f4-5425-4f02-a53d-71b5a1e37ff9"
      },
      "outputs": [
        {
          "output_type": "stream",
          "name": "stdout",
          "text": [
            "Accuracy : 0.15722403995178233\n"
          ]
        },
        {
          "output_type": "stream",
          "name": "stderr",
          "text": [
            "/usr/local/lib/python3.10/dist-packages/sklearn/metrics/_classification.py:1344: UndefinedMetricWarning: Precision and F-score are ill-defined and being set to 0.0 in labels with no predicted samples. Use `zero_division` parameter to control this behavior.\n",
            "  _warn_prf(average, modifier, msg_start, len(result))\n",
            "/usr/local/lib/python3.10/dist-packages/sklearn/metrics/_classification.py:1344: UndefinedMetricWarning: Precision and F-score are ill-defined and being set to 0.0 in labels with no predicted samples. Use `zero_division` parameter to control this behavior.\n",
            "  _warn_prf(average, modifier, msg_start, len(result))\n",
            "/usr/local/lib/python3.10/dist-packages/sklearn/metrics/_classification.py:1344: UndefinedMetricWarning: Precision and F-score are ill-defined and being set to 0.0 in labels with no predicted samples. Use `zero_division` parameter to control this behavior.\n",
            "  _warn_prf(average, modifier, msg_start, len(result))\n"
          ]
        },
        {
          "output_type": "stream",
          "name": "stdout",
          "text": [
            "Classification Report \n",
            ":                precision    recall  f1-score   support\n",
            "\n",
            "           0       0.25      0.00      0.00       583\n",
            "           1       0.27      0.03      0.06       578\n",
            "           2       0.16      0.23      0.19       716\n",
            "           3       0.16      0.78      0.26       695\n",
            "           4       0.25      0.01      0.02       473\n",
            "           5       0.14      0.21      0.17       721\n",
            "           6       0.00      0.00      0.00       484\n",
            "           7       0.00      0.00      0.00       553\n",
            "           8       0.18      0.05      0.08       610\n",
            "           9       0.00      0.00      0.00       394\n",
            "\n",
            "    accuracy                           0.16      5807\n",
            "   macro avg       0.14      0.13      0.08      5807\n",
            "weighted avg       0.15      0.16      0.09      5807\n",
            "\n"
          ]
        },
        {
          "output_type": "display_data",
          "data": {
            "text/plain": [
              "<Figure size 1000x1000 with 2 Axes>"
            ],
            "image/png": "[encoded data removed]"
          },
          "metadata": {}
        }
      ],
      "source": [
        "from sklearn.metrics import accuracy_score, log_loss, precision_score, recall_score, f1_score, roc_auc_score, confusion_matrix\n",
        "from sklearn.metrics import classification_report\n",
        "y_pred = mlr.predict(X_test)\n",
        "\n",
        "\n",
        "# Compute classification metrics\n",
        "matrix(mlr,y_pred)"
      ]
    },
    {
      "cell_type": "code",
      "source": [
        "# save the model as a file\n",
        "with open('/content/gdrive/MyDrive/ISM/MLR_model.pkl', 'wb') as file:\n",
        "    pickle.dump(mlr, file)"
      ],
      "metadata": {
        "id": "RlD0CnQHNmq0"
      },
      "execution_count": null,
      "outputs": []
    },
    {
      "cell_type": "markdown",
      "metadata": {
        "id": "paR79yicpljv"
      },
      "source": [
        "## SVM"
      ]
    },
    {
      "cell_type": "code",
      "execution_count": null,
      "metadata": {
        "ExecuteTime": {
          "start_time": "2023-04-14T10:33:19.544736Z",
          "end_time": "2023-04-14T10:33:19.560068Z"
        },
        "id": "EVNXWSh8pljv"
      },
      "outputs": [],
      "source": [
        "from sklearn import svm\n",
        "\n",
        "sv = svm.SVC(kernel='rbf', C=100,probability=True)"
      ]
    },
    {
      "cell_type": "code",
      "execution_count": null,
      "metadata": {
        "ExecuteTime": {
          "start_time": "2023-04-14T10:33:19.544736Z",
          "end_time": "2023-04-14T10:45:24.998330Z"
        },
        "colab": {
          "base_uri": "https://localhost:8080/",
          "height": 74
        },
        "id": "-ZoR4Pmepljv",
        "outputId": "a9865604-f1b9-4aaa-bae1-1b2ee0ccf026"
      },
      "outputs": [
        {
          "output_type": "execute_result",
          "data": {
            "text/plain": [
              "SVC(C=100, probability=True)"
            ],
            "text/html": [
              "<style>#sk-container-id-3 {color: black;background-color: white;}#sk-container-id-3 pre{padding: 0;}#sk-container-id-3 div.sk-toggleable {background-color: white;}#sk-container-id-3 label.sk-toggleable__label {cursor: pointer;display: block;width: 100%;margin-bottom: 0;padding: 0.3em;box-sizing: border-box;text-align: center;}#sk-container-id-3 label.sk-toggleable__label-arrow:before {content: \"▸\";float: left;margin-right: 0.25em;color: #696969;}#sk-container-id-3 label.sk-toggleable__label-arrow:hover:before {color: black;}#sk-container-id-3 div.sk-estimator:hover label.sk-toggleable__label-arrow:before {color: black;}#sk-container-id-3 div.sk-toggleable__content {max-height: 0;max-width: 0;overflow: hidden;text-align: left;background-color: #f0f8ff;}#sk-container-id-3 div.sk-toggleable__content pre {margin: 0.2em;color: black;border-radius: 0.25em;background-color: #f0f8ff;}#sk-container-id-3 input.sk-toggleable__control:checked~div.sk-toggleable__content {max-height: 200px;max-width: 100%;overflow: auto;}#sk-container-id-3 input.sk-toggleable__control:checked~label.sk-toggleable__label-arrow:before {content: \"▾\";}#sk-container-id-3 div.sk-estimator input.sk-toggleable__control:checked~label.sk-toggleable__label {background-color: #d4ebff;}#sk-container-id-3 div.sk-label input.sk-toggleable__control:checked~label.sk-toggleable__label {background-color: #d4ebff;}#sk-container-id-3 input.sk-hidden--visually {border: 0;clip: rect(1px 1px 1px 1px);clip: rect(1px, 1px, 1px, 1px);height: 1px;margin: -1px;overflow: hidden;padding: 0;position: absolute;width: 1px;}#sk-container-id-3 div.sk-estimator {font-family: monospace;background-color: #f0f8ff;border: 1px dotted black;border-radius: 0.25em;box-sizing: border-box;margin-bottom: 0.5em;}#sk-container-id-3 div.sk-estimator:hover {background-color: #d4ebff;}#sk-container-id-3 div.sk-parallel-item::after {content: \"\";width: 100%;border-bottom: 1px solid gray;flex-grow: 1;}#sk-container-id-3 div.sk-label:hover label.sk-toggleable__label {background-color: #d4ebff;}#sk-container-id-3 div.sk-serial::before {content: \"\";position: absolute;border-left: 1px solid gray;box-sizing: border-box;top: 0;bottom: 0;left: 50%;z-index: 0;}#sk-container-id-3 div.sk-serial {display: flex;flex-direction: column;align-items: center;background-color: white;padding-right: 0.2em;padding-left: 0.2em;position: relative;}#sk-container-id-3 div.sk-item {position: relative;z-index: 1;}#sk-container-id-3 div.sk-parallel {display: flex;align-items: stretch;justify-content: center;background-color: white;position: relative;}#sk-container-id-3 div.sk-item::before, #sk-container-id-3 div.sk-parallel-item::before {content: \"\";position: absolute;border-left: 1px solid gray;box-sizing: border-box;top: 0;bottom: 0;left: 50%;z-index: -1;}#sk-container-id-3 div.sk-parallel-item {display: flex;flex-direction: column;z-index: 1;position: relative;background-color: white;}#sk-container-id-3 div.sk-parallel-item:first-child::after {align-self: flex-end;width: 50%;}#sk-container-id-3 div.sk-parallel-item:last-child::after {align-self: flex-start;width: 50%;}#sk-container-id-3 div.sk-parallel-item:only-child::after {width: 0;}#sk-container-id-3 div.sk-dashed-wrapped {border: 1px dashed gray;margin: 0 0.4em 0.5em 0.4em;box-sizing: border-box;padding-bottom: 0.4em;background-color: white;}#sk-container-id-3 div.sk-label label {font-family: monospace;font-weight: bold;display: inline-block;line-height: 1.2em;}#sk-container-id-3 div.sk-label-container {text-align: center;}#sk-container-id-3 div.sk-container {/* jupyter's `normalize.less` sets `[hidden] { display: none; }` but bootstrap.min.css set `[hidden] { display: none !important; }` so we also need the `!important` here to be able to override the default hidden behavior on the sphinx rendered scikit-learn.org. See: https://github.com/scikit-learn/scikit-learn/issues/21755 */display: inline-block !important;position: relative;}#sk-container-id-3 div.sk-text-repr-fallback {display: none;}</style><div id=\"sk-container-id-3\" class=\"sk-top-container\"><div class=\"sk-text-repr-fallback\"><pre>SVC(C=100, probability=True)</pre><b>In a Jupyter environment, please rerun this cell to show the HTML representation or trust the notebook. <br />On GitHub, the HTML representation is unable to render, please try loading this page with nbviewer.org.</b></div><div class=\"sk-container\" hidden><div class=\"sk-item\"><div class=\"sk-estimator sk-toggleable\"><input class=\"sk-toggleable__control sk-hidden--visually\" id=\"sk-estimator-id-3\" type=\"checkbox\" checked><label for=\"sk-estimator-id-3\" class=\"sk-toggleable__label sk-toggleable__label-arrow\">SVC</label><div class=\"sk-toggleable__content\"><pre>SVC(C=100, probability=True)</pre></div></div></div></div></div>"
            ]
          },
          "metadata": {},
          "execution_count": 29
        }
      ],
      "source": [
        "sv.fit(X_train, y_train)"
      ]
    },
    {
      "cell_type": "markdown",
      "metadata": {
        "id": "0STH9fGMpljv"
      },
      "source": [
        "### Score"
      ]
    },
    {
      "cell_type": "code",
      "execution_count": null,
      "metadata": {
        "ExecuteTime": {
          "start_time": "2023-04-14T10:45:24.998330Z",
          "end_time": "2023-04-14T10:45:41.340275Z"
        },
        "colab": {
          "base_uri": "https://localhost:8080/",
          "height": 1000
        },
        "id": "RIBQOnyGpljv",
        "outputId": "4a373c16-86a3-4da2-bfb3-5ae2ceac670d"
      },
      "outputs": [
        {
          "output_type": "stream",
          "name": "stdout",
          "text": [
            "Accuracy : 0.17100051661787496\n",
            "Classification Report \n",
            ":                precision    recall  f1-score   support\n",
            "\n",
            "           0       0.00      0.00      0.00       583\n",
            "           1       0.40      0.01      0.01       578\n",
            "           2       0.19      0.24      0.21       716\n",
            "           3       0.16      0.91      0.27       695\n",
            "           4       0.00      0.00      0.00       473\n",
            "           5       0.20      0.23      0.22       721\n",
            "           6       0.00      0.00      0.00       484\n",
            "           7       0.00      0.00      0.00       553\n",
            "           8       0.37      0.02      0.04       610\n",
            "           9       1.00      0.00      0.01       394\n",
            "\n",
            "    accuracy                           0.17      5807\n",
            "   macro avg       0.23      0.14      0.08      5807\n",
            "weighted avg       0.21      0.17      0.09      5807\n",
            "\n"
          ]
        },
        {
          "output_type": "stream",
          "name": "stderr",
          "text": [
            "/usr/local/lib/python3.10/dist-packages/sklearn/metrics/_classification.py:1344: UndefinedMetricWarning: Precision and F-score are ill-defined and being set to 0.0 in labels with no predicted samples. Use `zero_division` parameter to control this behavior.\n",
            "  _warn_prf(average, modifier, msg_start, len(result))\n",
            "/usr/local/lib/python3.10/dist-packages/sklearn/metrics/_classification.py:1344: UndefinedMetricWarning: Precision and F-score are ill-defined and being set to 0.0 in labels with no predicted samples. Use `zero_division` parameter to control this behavior.\n",
            "  _warn_prf(average, modifier, msg_start, len(result))\n",
            "/usr/local/lib/python3.10/dist-packages/sklearn/metrics/_classification.py:1344: UndefinedMetricWarning: Precision and F-score are ill-defined and being set to 0.0 in labels with no predicted samples. Use `zero_division` parameter to control this behavior.\n",
            "  _warn_prf(average, modifier, msg_start, len(result))\n"
          ]
        },
        {
          "output_type": "display_data",
          "data": {
            "text/plain": [
              "<Figure size 1000x1000 with 2 Axes>"
            ],
            "image/png": "[encoded data removed]"
          },
          "metadata": {}
        }
      ],
      "source": [
        "from sklearn.metrics import accuracy_score, log_loss, precision_score, recall_score, f1_score, roc_auc_score, confusion_matrix\n",
        "from sklearn.metrics import classification_report\n",
        "y_pred = sv.predict(X_test)\n",
        "\n",
        "\n",
        "# Compute classification metrics\n",
        "matrix(sv,y_pred)"
      ]
    },
    {
      "cell_type": "code",
      "source": [
        "# save the model as a file\n",
        "with open('/content/gdrive/MyDrive/ISM/DT_model.pkl', 'wb') as file:\n",
        "    pickle.dump(DT_entropy, file)"
      ],
      "metadata": {
        "id": "G48fC49cNoeO"
      },
      "execution_count": null,
      "outputs": []
    },
    {
      "cell_type": "markdown",
      "metadata": {
        "id": "fcSUCIV9plj-"
      },
      "source": [
        "## Random Forest"
      ]
    },
    {
      "cell_type": "code",
      "execution_count": null,
      "metadata": {
        "ExecuteTime": {
          "start_time": "2023-04-14T10:45:41.340275Z",
          "end_time": "2023-04-14T10:45:46.243030Z"
        },
        "id": "E5xhuV8_plj_"
      },
      "outputs": [],
      "source": [
        "from sklearn.ensemble import RandomForestClassifier\n",
        "# Train a random forest regressor model\n",
        "rf = RandomForestClassifier(n_estimators=100,criterion='entropy', random_state=50)"
      ]
    },
    {
      "cell_type": "code",
      "execution_count": null,
      "metadata": {
        "ExecuteTime": {
          "start_time": "2023-04-14T10:45:46.243030Z",
          "end_time": "2023-04-14T10:46:24.987226Z"
        },
        "colab": {
          "base_uri": "https://localhost:8080/",
          "height": 74
        },
        "id": "LHX4TYuuplj_",
        "outputId": "7dcce7be-befe-415a-fcef-e6a7aaaf8001"
      },
      "outputs": [
        {
          "output_type": "execute_result",
          "data": {
            "text/plain": [
              "RandomForestClassifier(criterion='entropy', random_state=50)"
            ],
            "text/html": [
              "<style>#sk-container-id-3 {color: black;background-color: white;}#sk-container-id-3 pre{padding: 0;}#sk-container-id-3 div.sk-toggleable {background-color: white;}#sk-container-id-3 label.sk-toggleable__label {cursor: pointer;display: block;width: 100%;margin-bottom: 0;padding: 0.3em;box-sizing: border-box;text-align: center;}#sk-container-id-3 label.sk-toggleable__label-arrow:before {content: \"▸\";float: left;margin-right: 0.25em;color: #696969;}#sk-container-id-3 label.sk-toggleable__label-arrow:hover:before {color: black;}#sk-container-id-3 div.sk-estimator:hover label.sk-toggleable__label-arrow:before {color: black;}#sk-container-id-3 div.sk-toggleable__content {max-height: 0;max-width: 0;overflow: hidden;text-align: left;background-color: #f0f8ff;}#sk-container-id-3 div.sk-toggleable__content pre {margin: 0.2em;color: black;border-radius: 0.25em;background-color: #f0f8ff;}#sk-container-id-3 input.sk-toggleable__control:checked~div.sk-toggleable__content {max-height: 200px;max-width: 100%;overflow: auto;}#sk-container-id-3 input.sk-toggleable__control:checked~label.sk-toggleable__label-arrow:before {content: \"▾\";}#sk-container-id-3 div.sk-estimator input.sk-toggleable__control:checked~label.sk-toggleable__label {background-color: #d4ebff;}#sk-container-id-3 div.sk-label input.sk-toggleable__control:checked~label.sk-toggleable__label {background-color: #d4ebff;}#sk-container-id-3 input.sk-hidden--visually {border: 0;clip: rect(1px 1px 1px 1px);clip: rect(1px, 1px, 1px, 1px);height: 1px;margin: -1px;overflow: hidden;padding: 0;position: absolute;width: 1px;}#sk-container-id-3 div.sk-estimator {font-family: monospace;background-color: #f0f8ff;border: 1px dotted black;border-radius: 0.25em;box-sizing: border-box;margin-bottom: 0.5em;}#sk-container-id-3 div.sk-estimator:hover {background-color: #d4ebff;}#sk-container-id-3 div.sk-parallel-item::after {content: \"\";width: 100%;border-bottom: 1px solid gray;flex-grow: 1;}#sk-container-id-3 div.sk-label:hover label.sk-toggleable__label {background-color: #d4ebff;}#sk-container-id-3 div.sk-serial::before {content: \"\";position: absolute;border-left: 1px solid gray;box-sizing: border-box;top: 0;bottom: 0;left: 50%;z-index: 0;}#sk-container-id-3 div.sk-serial {display: flex;flex-direction: column;align-items: center;background-color: white;padding-right: 0.2em;padding-left: 0.2em;position: relative;}#sk-container-id-3 div.sk-item {position: relative;z-index: 1;}#sk-container-id-3 div.sk-parallel {display: flex;align-items: stretch;justify-content: center;background-color: white;position: relative;}#sk-container-id-3 div.sk-item::before, #sk-container-id-3 div.sk-parallel-item::before {content: \"\";position: absolute;border-left: 1px solid gray;box-sizing: border-box;top: 0;bottom: 0;left: 50%;z-index: -1;}#sk-container-id-3 div.sk-parallel-item {display: flex;flex-direction: column;z-index: 1;position: relative;background-color: white;}#sk-container-id-3 div.sk-parallel-item:first-child::after {align-self: flex-end;width: 50%;}#sk-container-id-3 div.sk-parallel-item:last-child::after {align-self: flex-start;width: 50%;}#sk-container-id-3 div.sk-parallel-item:only-child::after {width: 0;}#sk-container-id-3 div.sk-dashed-wrapped {border: 1px dashed gray;margin: 0 0.4em 0.5em 0.4em;box-sizing: border-box;padding-bottom: 0.4em;background-color: white;}#sk-container-id-3 div.sk-label label {font-family: monospace;font-weight: bold;display: inline-block;line-height: 1.2em;}#sk-container-id-3 div.sk-label-container {text-align: center;}#sk-container-id-3 div.sk-container {/* jupyter's `normalize.less` sets `[hidden] { display: none; }` but bootstrap.min.css set `[hidden] { display: none !important; }` so we also need the `!important` here to be able to override the default hidden behavior on the sphinx rendered scikit-learn.org. See: https://github.com/scikit-learn/scikit-learn/issues/21755 */display: inline-block !important;position: relative;}#sk-container-id-3 div.sk-text-repr-fallback {display: none;}</style><div id=\"sk-container-id-3\" class=\"sk-top-container\"><div class=\"sk-text-repr-fallback\"><pre>RandomForestClassifier(criterion=&#x27;entropy&#x27;, random_state=50)</pre><b>In a Jupyter environment, please rerun this cell to show the HTML representation or trust the notebook. <br />On GitHub, the HTML representation is unable to render, please try loading this page with nbviewer.org.</b></div><div class=\"sk-container\" hidden><div class=\"sk-item\"><div class=\"sk-estimator sk-toggleable\"><input class=\"sk-toggleable__control sk-hidden--visually\" id=\"sk-estimator-id-3\" type=\"checkbox\" checked><label for=\"sk-estimator-id-3\" class=\"sk-toggleable__label sk-toggleable__label-arrow\">RandomForestClassifier</label><div class=\"sk-toggleable__content\"><pre>RandomForestClassifier(criterion=&#x27;entropy&#x27;, random_state=50)</pre></div></div></div></div></div>"
            ]
          },
          "metadata": {},
          "execution_count": 32
        }
      ],
      "source": [
        "rf.fit(X_train, y_train)"
      ]
    },
    {
      "cell_type": "markdown",
      "metadata": {
        "id": "wRc1lbSUplj_"
      },
      "source": [
        "### Score"
      ]
    },
    {
      "cell_type": "code",
      "execution_count": null,
      "metadata": {
        "ExecuteTime": {
          "start_time": "2023-04-14T10:46:24.987226Z",
          "end_time": "2023-04-14T10:46:26.180745Z"
        },
        "colab": {
          "base_uri": "https://localhost:8080/",
          "height": 1000
        },
        "id": "Ysk3LKWMplkA",
        "outputId": "148703cb-6018-4b76-c777-a0b10bef3f9c"
      },
      "outputs": [
        {
          "output_type": "stream",
          "name": "stdout",
          "text": [
            "Accuracy : 0.9438608575856725\n",
            "Classification Report \n",
            ":                precision    recall  f1-score   support\n",
            "\n",
            "           0       0.91      0.95      0.93       583\n",
            "           1       0.99      0.99      0.99       578\n",
            "           2       0.97      0.97      0.97       716\n",
            "           3       1.00      0.97      0.99       695\n",
            "           4       0.85      0.92      0.88       473\n",
            "           5       0.91      0.92      0.91       721\n",
            "           6       0.89      0.75      0.82       484\n",
            "           7       0.97      0.98      0.98       553\n",
            "           8       0.96      0.98      0.97       610\n",
            "           9       0.97      0.97      0.97       394\n",
            "\n",
            "    accuracy                           0.94      5807\n",
            "   macro avg       0.94      0.94      0.94      5807\n",
            "weighted avg       0.94      0.94      0.94      5807\n",
            "\n"
          ]
        },
        {
          "output_type": "display_data",
          "data": {
            "text/plain": [
              "<Figure size 1000x1000 with 2 Axes>"
            ],
            "image/png": "[encoded data removed]"
          },
          "metadata": {}
        }
      ],
      "source": [
        "from sklearn.metrics import accuracy_score, log_loss, precision_score, recall_score, f1_score, roc_auc_score, confusion_matrix\n",
        "from sklearn.metrics import classification_report\n",
        "y_pred = rf.predict(X_test)\n",
        "\n",
        "\n",
        "# Compute classification metrics\n",
        "matrix(rf,y_pred)"
      ]
    },
    {
      "cell_type": "code",
      "source": [
        "# save the model as a file\n",
        "with open('/content/gdrive/MyDrive/ISM/RF_model.pkl', 'wb') as file:\n",
        "    pickle.dump(rf, file)"
      ],
      "metadata": {
        "id": "-4qgnAKIONt1"
      },
      "execution_count": null,
      "outputs": []
    },
    {
      "cell_type": "code",
      "execution_count": null,
      "metadata": {
        "ExecuteTime": {
          "start_time": "2023-04-14T10:46:26.180745Z",
          "end_time": "2023-04-14T10:46:26.193786Z"
        },
        "id": "ao-m4dy1plkA"
      },
      "outputs": [],
      "source": [
        "from sklearn.ensemble import BaggingClassifier"
      ]
    },
    {
      "cell_type": "code",
      "source": [],
      "metadata": {
        "id": "RdzB2s0YOJ2U"
      },
      "execution_count": null,
      "outputs": []
    },
    {
      "cell_type": "markdown",
      "metadata": {
        "id": "vV2CZMuqplkA"
      },
      "source": [
        "### BaggingClassifier"
      ]
    },
    {
      "cell_type": "code",
      "execution_count": null,
      "metadata": {
        "ExecuteTime": {
          "start_time": "2023-04-14T10:46:26.181262Z",
          "end_time": "2023-04-14T11:06:45.229947Z"
        },
        "colab": {
          "base_uri": "https://localhost:8080/",
          "height": 117
        },
        "id": "jNWTtk8vplkA",
        "outputId": "06f4366a-63d4-49e1-8f17-6dbf02be39f1"
      },
      "outputs": [
        {
          "output_type": "execute_result",
          "data": {
            "text/plain": [
              "BaggingClassifier(estimator=RandomForestClassifier(criterion='entropy',\n",
              "                                                   random_state=50),\n",
              "                  n_estimators=40)"
            ],
            "text/html": [
              "<style>#sk-container-id-4 {color: black;background-color: white;}#sk-container-id-4 pre{padding: 0;}#sk-container-id-4 div.sk-toggleable {background-color: white;}#sk-container-id-4 label.sk-toggleable__label {cursor: pointer;display: block;width: 100%;margin-bottom: 0;padding: 0.3em;box-sizing: border-box;text-align: center;}#sk-container-id-4 label.sk-toggleable__label-arrow:before {content: \"▸\";float: left;margin-right: 0.25em;color: #696969;}#sk-container-id-4 label.sk-toggleable__label-arrow:hover:before {color: black;}#sk-container-id-4 div.sk-estimator:hover label.sk-toggleable__label-arrow:before {color: black;}#sk-container-id-4 div.sk-toggleable__content {max-height: 0;max-width: 0;overflow: hidden;text-align: left;background-color: #f0f8ff;}#sk-container-id-4 div.sk-toggleable__content pre {margin: 0.2em;color: black;border-radius: 0.25em;background-color: #f0f8ff;}#sk-container-id-4 input.sk-toggleable__control:checked~div.sk-toggleable__content {max-height: 200px;max-width: 100%;overflow: auto;}#sk-container-id-4 input.sk-toggleable__control:checked~label.sk-toggleable__label-arrow:before {content: \"▾\";}#sk-container-id-4 div.sk-estimator input.sk-toggleable__control:checked~label.sk-toggleable__label {background-color: #d4ebff;}#sk-container-id-4 div.sk-label input.sk-toggleable__control:checked~label.sk-toggleable__label {background-color: #d4ebff;}#sk-container-id-4 input.sk-hidden--visually {border: 0;clip: rect(1px 1px 1px 1px);clip: rect(1px, 1px, 1px, 1px);height: 1px;margin: -1px;overflow: hidden;padding: 0;position: absolute;width: 1px;}#sk-container-id-4 div.sk-estimator {font-family: monospace;background-color: #f0f8ff;border: 1px dotted black;border-radius: 0.25em;box-sizing: border-box;margin-bottom: 0.5em;}#sk-container-id-4 div.sk-estimator:hover {background-color: #d4ebff;}#sk-container-id-4 div.sk-parallel-item::after {content: \"\";width: 100%;border-bottom: 1px solid gray;flex-grow: 1;}#sk-container-id-4 div.sk-label:hover label.sk-toggleable__label {background-color: #d4ebff;}#sk-container-id-4 div.sk-serial::before {content: \"\";position: absolute;border-left: 1px solid gray;box-sizing: border-box;top: 0;bottom: 0;left: 50%;z-index: 0;}#sk-container-id-4 div.sk-serial {display: flex;flex-direction: column;align-items: center;background-color: white;padding-right: 0.2em;padding-left: 0.2em;position: relative;}#sk-container-id-4 div.sk-item {position: relative;z-index: 1;}#sk-container-id-4 div.sk-parallel {display: flex;align-items: stretch;justify-content: center;background-color: white;position: relative;}#sk-container-id-4 div.sk-item::before, #sk-container-id-4 div.sk-parallel-item::before {content: \"\";position: absolute;border-left: 1px solid gray;box-sizing: border-box;top: 0;bottom: 0;left: 50%;z-index: -1;}#sk-container-id-4 div.sk-parallel-item {display: flex;flex-direction: column;z-index: 1;position: relative;background-color: white;}#sk-container-id-4 div.sk-parallel-item:first-child::after {align-self: flex-end;width: 50%;}#sk-container-id-4 div.sk-parallel-item:last-child::after {align-self: flex-start;width: 50%;}#sk-container-id-4 div.sk-parallel-item:only-child::after {width: 0;}#sk-container-id-4 div.sk-dashed-wrapped {border: 1px dashed gray;margin: 0 0.4em 0.5em 0.4em;box-sizing: border-box;padding-bottom: 0.4em;background-color: white;}#sk-container-id-4 div.sk-label label {font-family: monospace;font-weight: bold;display: inline-block;line-height: 1.2em;}#sk-container-id-4 div.sk-label-container {text-align: center;}#sk-container-id-4 div.sk-container {/* jupyter's `normalize.less` sets `[hidden] { display: none; }` but bootstrap.min.css set `[hidden] { display: none !important; }` so we also need the `!important` here to be able to override the default hidden behavior on the sphinx rendered scikit-learn.org. See: https://github.com/scikit-learn/scikit-learn/issues/21755 */display: inline-block !important;position: relative;}#sk-container-id-4 div.sk-text-repr-fallback {display: none;}</style><div id=\"sk-container-id-4\" class=\"sk-top-container\"><div class=\"sk-text-repr-fallback\"><pre>BaggingClassifier(estimator=RandomForestClassifier(criterion=&#x27;entropy&#x27;,\n",
              "                                                   random_state=50),\n",
              "                  n_estimators=40)</pre><b>In a Jupyter environment, please rerun this cell to show the HTML representation or trust the notebook. <br />On GitHub, the HTML representation is unable to render, please try loading this page with nbviewer.org.</b></div><div class=\"sk-container\" hidden><div class=\"sk-item sk-dashed-wrapped\"><div class=\"sk-label-container\"><div class=\"sk-label sk-toggleable\"><input class=\"sk-toggleable__control sk-hidden--visually\" id=\"sk-estimator-id-4\" type=\"checkbox\" ><label for=\"sk-estimator-id-4\" class=\"sk-toggleable__label sk-toggleable__label-arrow\">BaggingClassifier</label><div class=\"sk-toggleable__content\"><pre>BaggingClassifier(estimator=RandomForestClassifier(criterion=&#x27;entropy&#x27;,\n",
              "                                                   random_state=50),\n",
              "                  n_estimators=40)</pre></div></div></div><div class=\"sk-parallel\"><div class=\"sk-parallel-item\"><div class=\"sk-item\"><div class=\"sk-label-container\"><div class=\"sk-label sk-toggleable\"><input class=\"sk-toggleable__control sk-hidden--visually\" id=\"sk-estimator-id-5\" type=\"checkbox\" ><label for=\"sk-estimator-id-5\" class=\"sk-toggleable__label sk-toggleable__label-arrow\">estimator: RandomForestClassifier</label><div class=\"sk-toggleable__content\"><pre>RandomForestClassifier(criterion=&#x27;entropy&#x27;, random_state=50)</pre></div></div></div><div class=\"sk-serial\"><div class=\"sk-item\"><div class=\"sk-estimator sk-toggleable\"><input class=\"sk-toggleable__control sk-hidden--visually\" id=\"sk-estimator-id-6\" type=\"checkbox\" ><label for=\"sk-estimator-id-6\" class=\"sk-toggleable__label sk-toggleable__label-arrow\">RandomForestClassifier</label><div class=\"sk-toggleable__content\"><pre>RandomForestClassifier(criterion=&#x27;entropy&#x27;, random_state=50)</pre></div></div></div></div></div></div></div></div></div></div>"
            ]
          },
          "metadata": {},
          "execution_count": 36
        }
      ],
      "source": [
        "boostingrf = BaggingClassifier(estimator=rf, n_estimators=40)\n",
        "\n",
        "boostingrf.fit(X_train, y_train)\n"
      ]
    },
    {
      "cell_type": "markdown",
      "metadata": {
        "id": "IlQRVmNxplkA"
      },
      "source": [
        "### Score"
      ]
    },
    {
      "cell_type": "code",
      "execution_count": null,
      "metadata": {
        "ExecuteTime": {
          "start_time": "2023-04-14T11:06:45.229947Z",
          "end_time": "2023-04-14T11:08:43.612453Z"
        },
        "colab": {
          "base_uri": "https://localhost:8080/",
          "height": 1000
        },
        "id": "jCzAUweNplkB",
        "outputId": "998890ef-6b72-4ed4-da57-1cb84d80fb6a"
      },
      "outputs": [
        {
          "output_type": "stream",
          "name": "stdout",
          "text": [
            "Accuracy : 0.9509213018770449\n",
            "Classification Report \n",
            ":                precision    recall  f1-score   support\n",
            "\n",
            "           0       0.93      0.97      0.95       583\n",
            "           1       0.99      0.99      0.99       578\n",
            "           2       0.96      0.98      0.97       716\n",
            "           3       1.00      0.98      0.99       695\n",
            "           4       0.85      0.93      0.89       473\n",
            "           5       0.92      0.93      0.92       721\n",
            "           6       0.94      0.77      0.85       484\n",
            "           7       0.98      0.98      0.98       553\n",
            "           8       0.96      0.99      0.97       610\n",
            "           9       0.98      0.97      0.98       394\n",
            "\n",
            "    accuracy                           0.95      5807\n",
            "   macro avg       0.95      0.95      0.95      5807\n",
            "weighted avg       0.95      0.95      0.95      5807\n",
            "\n"
          ]
        },
        {
          "output_type": "display_data",
          "data": {
            "text/plain": [
              "<Figure size 1000x1000 with 2 Axes>"
            ],
            "image/png": "[encoded data removed]"
          },
          "metadata": {}
        }
      ],
      "source": [
        "from sklearn.metrics import accuracy_score, log_loss, precision_score, recall_score, f1_score, roc_auc_score, confusion_matrix\n",
        "from sklearn.metrics import classification_report\n",
        "y_pred = boostingrf.predict(X_test)\n",
        "\n",
        "\n",
        "# Compute classification metrics\n",
        "matrix(boostingrf, y_pred)"
      ]
    },
    {
      "cell_type": "code",
      "source": [
        "# save the model as a file\n",
        "with open('/content/gdrive/MyDrive/ISM/BoostRF_model.pkl', 'wb') as file:\n",
        "    pickle.dump(boostingrf, file)"
      ],
      "metadata": {
        "id": "b8VnJjtkNq-L"
      },
      "execution_count": null,
      "outputs": []
    },
    {
      "cell_type": "markdown",
      "metadata": {
        "id": "bTYQE9wHplkB"
      },
      "source": [
        "## KNeighborsClassifier"
      ]
    },
    {
      "cell_type": "code",
      "execution_count": null,
      "metadata": {
        "ExecuteTime": {
          "start_time": "2023-04-14T11:08:43.612453Z",
          "end_time": "2023-04-14T11:08:43.942346Z"
        },
        "colab": {
          "base_uri": "https://localhost:8080/",
          "height": 74
        },
        "id": "hDSrgnfFplkB",
        "outputId": "e56f7a64-b0c6-4423-9041-59ca5958d715"
      },
      "outputs": [
        {
          "output_type": "execute_result",
          "data": {
            "text/plain": [
              "KNeighborsClassifier(n_neighbors=10)"
            ],
            "text/html": [
              "<style>#sk-container-id-5 {color: black;background-color: white;}#sk-container-id-5 pre{padding: 0;}#sk-container-id-5 div.sk-toggleable {background-color: white;}#sk-container-id-5 label.sk-toggleable__label {cursor: pointer;display: block;width: 100%;margin-bottom: 0;padding: 0.3em;box-sizing: border-box;text-align: center;}#sk-container-id-5 label.sk-toggleable__label-arrow:before {content: \"▸\";float: left;margin-right: 0.25em;color: #696969;}#sk-container-id-5 label.sk-toggleable__label-arrow:hover:before {color: black;}#sk-container-id-5 div.sk-estimator:hover label.sk-toggleable__label-arrow:before {color: black;}#sk-container-id-5 div.sk-toggleable__content {max-height: 0;max-width: 0;overflow: hidden;text-align: left;background-color: #f0f8ff;}#sk-container-id-5 div.sk-toggleable__content pre {margin: 0.2em;color: black;border-radius: 0.25em;background-color: #f0f8ff;}#sk-container-id-5 input.sk-toggleable__control:checked~div.sk-toggleable__content {max-height: 200px;max-width: 100%;overflow: auto;}#sk-container-id-5 input.sk-toggleable__control:checked~label.sk-toggleable__label-arrow:before {content: \"▾\";}#sk-container-id-5 div.sk-estimator input.sk-toggleable__control:checked~label.sk-toggleable__label {background-color: #d4ebff;}#sk-container-id-5 div.sk-label input.sk-toggleable__control:checked~label.sk-toggleable__label {background-color: #d4ebff;}#sk-container-id-5 input.sk-hidden--visually {border: 0;clip: rect(1px 1px 1px 1px);clip: rect(1px, 1px, 1px, 1px);height: 1px;margin: -1px;overflow: hidden;padding: 0;position: absolute;width: 1px;}#sk-container-id-5 div.sk-estimator {font-family: monospace;background-color: #f0f8ff;border: 1px dotted black;border-radius: 0.25em;box-sizing: border-box;margin-bottom: 0.5em;}#sk-container-id-5 div.sk-estimator:hover {background-color: #d4ebff;}#sk-container-id-5 div.sk-parallel-item::after {content: \"\";width: 100%;border-bottom: 1px solid gray;flex-grow: 1;}#sk-container-id-5 div.sk-label:hover label.sk-toggleable__label {background-color: #d4ebff;}#sk-container-id-5 div.sk-serial::before {content: \"\";position: absolute;border-left: 1px solid gray;box-sizing: border-box;top: 0;bottom: 0;left: 50%;z-index: 0;}#sk-container-id-5 div.sk-serial {display: flex;flex-direction: column;align-items: center;background-color: white;padding-right: 0.2em;padding-left: 0.2em;position: relative;}#sk-container-id-5 div.sk-item {position: relative;z-index: 1;}#sk-container-id-5 div.sk-parallel {display: flex;align-items: stretch;justify-content: center;background-color: white;position: relative;}#sk-container-id-5 div.sk-item::before, #sk-container-id-5 div.sk-parallel-item::before {content: \"\";position: absolute;border-left: 1px solid gray;box-sizing: border-box;top: 0;bottom: 0;left: 50%;z-index: -1;}#sk-container-id-5 div.sk-parallel-item {display: flex;flex-direction: column;z-index: 1;position: relative;background-color: white;}#sk-container-id-5 div.sk-parallel-item:first-child::after {align-self: flex-end;width: 50%;}#sk-container-id-5 div.sk-parallel-item:last-child::after {align-self: flex-start;width: 50%;}#sk-container-id-5 div.sk-parallel-item:only-child::after {width: 0;}#sk-container-id-5 div.sk-dashed-wrapped {border: 1px dashed gray;margin: 0 0.4em 0.5em 0.4em;box-sizing: border-box;padding-bottom: 0.4em;background-color: white;}#sk-container-id-5 div.sk-label label {font-family: monospace;font-weight: bold;display: inline-block;line-height: 1.2em;}#sk-container-id-5 div.sk-label-container {text-align: center;}#sk-container-id-5 div.sk-container {/* jupyter's `normalize.less` sets `[hidden] { display: none; }` but bootstrap.min.css set `[hidden] { display: none !important; }` so we also need the `!important` here to be able to override the default hidden behavior on the sphinx rendered scikit-learn.org. See: https://github.com/scikit-learn/scikit-learn/issues/21755 */display: inline-block !important;position: relative;}#sk-container-id-5 div.sk-text-repr-fallback {display: none;}</style><div id=\"sk-container-id-5\" class=\"sk-top-container\"><div class=\"sk-text-repr-fallback\"><pre>KNeighborsClassifier(n_neighbors=10)</pre><b>In a Jupyter environment, please rerun this cell to show the HTML representation or trust the notebook. <br />On GitHub, the HTML representation is unable to render, please try loading this page with nbviewer.org.</b></div><div class=\"sk-container\" hidden><div class=\"sk-item\"><div class=\"sk-estimator sk-toggleable\"><input class=\"sk-toggleable__control sk-hidden--visually\" id=\"sk-estimator-id-7\" type=\"checkbox\" checked><label for=\"sk-estimator-id-7\" class=\"sk-toggleable__label sk-toggleable__label-arrow\">KNeighborsClassifier</label><div class=\"sk-toggleable__content\"><pre>KNeighborsClassifier(n_neighbors=10)</pre></div></div></div></div></div>"
            ]
          },
          "metadata": {},
          "execution_count": 39
        }
      ],
      "source": [
        "from sklearn.neighbors import KNeighborsClassifier\n",
        "knn = KNeighborsClassifier(n_neighbors=10)\n",
        "knn.fit(X_train, y_train)"
      ]
    },
    {
      "cell_type": "markdown",
      "metadata": {
        "id": "Qj57V1w2plkC"
      },
      "source": [
        "### Score"
      ]
    },
    {
      "cell_type": "code",
      "execution_count": null,
      "metadata": {
        "ExecuteTime": {
          "start_time": "2023-04-14T11:08:43.691099Z",
          "end_time": "2023-04-14T11:08:44.888652Z"
        },
        "colab": {
          "base_uri": "https://localhost:8080/",
          "height": 1000
        },
        "id": "QMsznwgKplkC",
        "outputId": "f7a1d55c-f4ef-48d6-ecab-48ce9115607b"
      },
      "outputs": [
        {
          "output_type": "stream",
          "name": "stdout",
          "text": [
            "Accuracy : 0.5159290511451696\n",
            "Classification Report \n",
            ":                precision    recall  f1-score   support\n",
            "\n",
            "           0       0.40      0.57      0.47       583\n",
            "           1       0.54      0.62      0.58       578\n",
            "           2       0.43      0.54      0.48       716\n",
            "           3       0.86      0.87      0.86       695\n",
            "           4       0.38      0.27      0.32       473\n",
            "           5       0.45      0.45      0.45       721\n",
            "           6       0.39      0.26      0.31       484\n",
            "           7       0.44      0.40      0.42       553\n",
            "           8       0.55      0.53      0.54       610\n",
            "           9       0.80      0.49      0.61       394\n",
            "\n",
            "    accuracy                           0.52      5807\n",
            "   macro avg       0.52      0.50      0.50      5807\n",
            "weighted avg       0.52      0.52      0.51      5807\n",
            "\n"
          ]
        },
        {
          "output_type": "display_data",
          "data": {
            "text/plain": [
              "<Figure size 1000x1000 with 2 Axes>"
            ],
            "image/png": "[encoded data removed]"
          },
          "metadata": {}
        }
      ],
      "source": [
        "from sklearn.metrics import accuracy_score, log_loss, precision_score, recall_score, f1_score, roc_auc_score, confusion_matrix\n",
        "from sklearn.metrics import classification_report\n",
        "y_pred = knn.predict(X_test)\n",
        "\n",
        "\n",
        "# Compute classification metrics\n",
        "matrix(knn, y_pred)"
      ]
    },
    {
      "cell_type": "code",
      "source": [
        "# save the model as a file\n",
        "with open('/content/gdrive/MyDrive/ISM/KNN_model.pkl', 'wb') as file:\n",
        "    pickle.dump(knn, file)"
      ],
      "metadata": {
        "id": "zngA5Gw2Nsgi"
      },
      "execution_count": null,
      "outputs": []
    },
    {
      "cell_type": "markdown",
      "metadata": {
        "id": "Sy4I1n4AplkC"
      },
      "source": [
        "## Voting"
      ]
    },
    {
      "cell_type": "code",
      "execution_count": null,
      "metadata": {
        "ExecuteTime": {
          "start_time": "2023-04-14T11:08:44.896160Z",
          "end_time": "2023-04-14T11:08:44.904033Z"
        },
        "id": "3ngQQXzxplkC"
      },
      "outputs": [],
      "source": [
        "from sklearn.ensemble import  VotingClassifier"
      ]
    },
    {
      "cell_type": "code",
      "execution_count": null,
      "metadata": {
        "ExecuteTime": {
          "start_time": "2023-04-14T11:08:44.904033Z",
          "end_time": "2023-04-14T11:48:01.472340Z"
        },
        "id": "YJ-0cdZ2plkC"
      },
      "outputs": [],
      "source": [
        "voting_regressor = VotingClassifier(estimators=[('boostingrf', boostingrf), ('knn', knn), ('DT_entropy', DT_entropy)])\n",
        "voting_regressor.fit(X_train, y_train)\n",
        "y_pred = voting_regressor.predict(X_test)"
      ]
    },
    {
      "cell_type": "markdown",
      "metadata": {
        "id": "A9Kgi_bxplkD"
      },
      "source": [
        "### Score"
      ]
    },
    {
      "cell_type": "code",
      "execution_count": null,
      "metadata": {
        "ExecuteTime": {
          "start_time": "2023-04-14T11:48:01.487983Z",
          "end_time": "2023-04-14T11:48:02.946264Z"
        },
        "colab": {
          "base_uri": "https://localhost:8080/",
          "height": 1000
        },
        "id": "1iwIzuS2plkD",
        "outputId": "7386d8fb-4669-4665-f8bc-77f7fec58509"
      },
      "outputs": [
        {
          "output_type": "stream",
          "name": "stdout",
          "text": [
            "Accuracy : 0.9567763044601343\n",
            "Classification Report \n",
            ":                precision    recall  f1-score   support\n",
            "\n",
            "           0       0.92      0.99      0.95       583\n",
            "           1       0.96      0.99      0.97       578\n",
            "           2       0.92      0.98      0.95       716\n",
            "           3       0.99      0.99      0.99       695\n",
            "           4       0.90      0.91      0.91       473\n",
            "           5       0.95      0.94      0.95       721\n",
            "           6       0.97      0.78      0.87       484\n",
            "           7       0.99      0.99      0.99       553\n",
            "           8       0.99      0.99      0.99       610\n",
            "           9       1.00      0.97      0.99       394\n",
            "\n",
            "    accuracy                           0.96      5807\n",
            "   macro avg       0.96      0.95      0.95      5807\n",
            "weighted avg       0.96      0.96      0.96      5807\n",
            "\n"
          ]
        },
        {
          "output_type": "display_data",
          "data": {
            "text/plain": [
              "<Figure size 1000x1000 with 2 Axes>"
            ],
            "image/png": "[encoded data removed]"
          },
          "metadata": {}
        }
      ],
      "source": [
        "from sklearn.metrics import accuracy_score, log_loss, precision_score, recall_score, f1_score, roc_auc_score, confusion_matrix\n",
        "from sklearn.metrics import classification_report\n",
        "#y_pred = voting_regressor.predict(X_test)\n",
        "\n",
        "\n",
        "# Compute classification metrics\n",
        "matrix(voting_regressor, y_pred)"
      ]
    },
    {
      "cell_type": "markdown",
      "metadata": {
        "id": "azBLxKbrplkD"
      },
      "source": [
        "## Save The Model"
      ]
    },
    {
      "cell_type": "code",
      "execution_count": null,
      "metadata": {
        "ExecuteTime": {
          "start_time": "2023-04-14T11:48:02.910358Z",
          "end_time": "2023-04-14T11:48:02.946264Z"
        },
        "id": "S2jQJDFbplkD"
      },
      "outputs": [],
      "source": [
        "import pickle"
      ]
    },
    {
      "cell_type": "code",
      "execution_count": null,
      "metadata": {
        "ExecuteTime": {
          "start_time": "2023-04-14T11:48:02.914870Z",
          "end_time": "2023-04-14T11:48:02.946264Z"
        },
        "id": "DEcQSdDpplkD"
      },
      "outputs": [],
      "source": [
        "import pickle\n",
        "# save the model as a file\n",
        "with open('/content/gdrive/MyDrive/ISM/VOTE_model.pkl', 'wb') as file:\n",
        "    pickle.dump(voting_regressor, file)\n",
        "\n"
      ]
    },
    {
      "cell_type": "code",
      "execution_count": null,
      "metadata": {
        "ExecuteTime": {
          "start_time": "2023-04-14T11:48:02.921722Z",
          "end_time": "2023-04-14T11:48:02.946264Z"
        },
        "id": "3Awp6gZvplkE"
      },
      "outputs": [],
      "source": [
        "model = pickle.load(open('/content/gdrive/MyDrive/ISM/model.pkl', 'rb'))"
      ]
    },
    {
      "cell_type": "code",
      "execution_count": null,
      "outputs": [],
      "source": [],
      "metadata": {
        "ExecuteTime": {
          "start_time": "2023-04-14T11:48:14.985857Z",
          "end_time": "2023-04-14T11:48:14.985857Z"
        },
        "id": "hK-FcUzIplkR"
      }
    }
  ],
  "metadata": {
    "colab": {
      "provenance": [],
      "gpuType": "T4"
    },
    "kernelspec": {
      "display_name": "Python 3",
      "name": "python3"
    },
    "language_info": {
      "codemirror_mode": {
        "name": "ipython",
        "version": 3
      },
      "file_extension": ".py",
      "mimetype": "text/x-python",
      "name": "python",
      "nbconvert_exporter": "python",
      "pygments_lexer": "ipython3",
      "version": "3.11.1"
    },
    "accelerator": "GPU"
  },
  "nbformat": 4,
  "nbformat_minor": 0
}